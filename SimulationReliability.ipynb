{
 "cells": [
  {
   "cell_type": "markdown",
   "source": [
    "# Reliability - Proof of Concept on a simulated dataset\n",
    "In this notebook I show how we can study the reliability problem.\n",
    "\n",
    "\n",
    "Recall that reliability is not focused on the overrall accuracy of a model\n",
    "on a test set, it is rather focused on assessing how much reliable is\n",
    "a prediction on a new unseen example (**Can we trust this prediction?**) .\n",
    "\n",
    "\n",
    "Recall also that a \"reliable\" system should satisfy two principles:\n",
    "\n",
    "- the local density principle: \"how much my new example is similar\n",
    "to instances of the training set?\"\n",
    "- the local fit principle: \"how is my model accurate on the most similar examples of the \n",
    "training set?\"\n",
    "\n",
    "We face the reliability problem by using an approach for training instance selection. Instance selection\n",
    "methods select the most relevant instances in order to reduce the number of examples of the training set. By\n",
    "retaining only the non-redundant and informative examples, these approaches are used to decrease\n",
    "the computational time of algorithms such as k-Nearest Neighbor without reducing the accuracy \n",
    "performance [2].\n",
    "\n",
    "The idea is that if a new unseen example $x$ would be selected by one of such methods as an \"important\" instance in comparison with\n",
    "the available training set, \n",
    "then the prediction made by a model not trained on $x$ is not completely reliable,\n",
    "since the unseen instance is adding information to the training set.\n",
    "\n",
    "To do so, we use of the approach proposed by [3], where authors introduce the concept of \n",
    "\"border\" instances: for a given attribute, a training example is \"border\" if, \n",
    "among the training examples of the\n",
    "same classes, it is the nearest example to another example of the other classes. The *weakness* of an instance is the number \n",
    "of times that that instance is border in a partition over the \n",
    "attributes. If $weakness(x)=m$, where $m$ is the number of attributes, then $x$ is not in the border for any of the\n",
    "$m$ attributes. This approach is called patterns by ordered projections (POP).\n",
    "\n",
    "We used POP *a posteriori*: i.e., when we have a new unseen example $x$, we check if $x$ would become\n",
    "border for each attribute, by comparing $x$ with the borders of the training set.\n",
    "Then, we defined the reliability as\n",
    "$rel(x)=1-\\frac{n_m}{m}$\n",
    "\n",
    "where $n_m$ is the number of times that $x$ is border.\n",
    "\n",
    "Previous works are model-specific, since thay include reliability in the modeling process [4],\n",
    "while others compare the different in class probability distribution of two models, one \n",
    "trained without the new example and the other trained including the new example [5].\n",
    "\n",
    "Instead, this approach can be applied after the training of any ML algorithms,\n",
    "and it requires to compute 4*m metrics distances, instead of comparing the unseen example\n",
    "with the entire training set.\n",
    "\n"
   ],
   "metadata": {
    "collapsed": false,
    "pycharm": {
     "name": "#%% md\n"
    }
   }
  },
  {
   "cell_type": "code",
   "execution_count": 1,
   "metadata": {
    "collapsed": true,
    "pycharm": {
     "is_executing": false,
     "name": "#%%\n"
    }
   },
   "outputs": [],
   "source": [
    "from matplotlib import pyplot\n",
    "import pandas as pd\n",
    "import numpy as np\n",
    "from collections import Counter\n",
    "from pop_implemetation import pop_instance_training, check_is_border\n",
    "from utils import make_classification_adjusted\n",
    "from sklearn.metrics import *"
   ]
  },
  {
   "cell_type": "code",
   "execution_count": 2,
   "outputs": [],
   "source": [
    "def create_plot(df_pl, colors = {0:'blue', 1:'red'}, title='', group_by='label'):\n",
    "    fig, ax = pyplot.subplots()\n",
    "    grouped = df_pl.groupby(group_by)\n",
    "    for key, group in grouped:\n",
    "        group.plot(ax=ax, kind='scatter', x='x', y='y', label=key, color=colors[key])\n",
    "    pyplot.title(title)\n",
    "    pyplot.show()"
   ],
   "metadata": {
    "collapsed": false,
    "pycharm": {
     "name": "#%%\n",
     "is_executing": false
    }
   }
  },
  {
   "cell_type": "markdown",
   "source": [
    "First step: generate a simulated datasets with two classes, two attributes. \n",
    "We assume that the examples of the two classes may come from 4 different clusters with \n",
    "different shape, as shown in figure."
   ],
   "metadata": {
    "collapsed": false,
    "pycharm": {
     "name": "#%% md\n"
    }
   }
  },
  {
   "cell_type": "code",
   "execution_count": 4,
   "outputs": [
    {
     "name": "stdout",
     "text": [
      "Counter({0: 4785, 1: 1215})\n"
     ],
     "output_type": "stream"
    }
   ],
   "source": [
    "# Generate a simulated datasets with two classes\n",
    "X, y, clusters = make_classification_adjusted(n_samples=6000, n_classes=2, n_features=2, n_informative=2,\n",
    "                           n_redundant=0,\n",
    "                           random_state=1, weights=np.array([0.8, 0.2]),\n",
    "                           class_sep=0.7,\n",
    "                           n_clusters_per_class=2, shuffle=False)\n",
    "\n",
    "class_num = Counter(y)"
   ],
   "metadata": {
    "collapsed": false,
    "pycharm": {
     "name": "#%%\n",
     "is_executing": false
    }
   }
  },
  {
   "cell_type": "markdown",
   "source": [
    "As we can see, the dataset is highly unbalanced"
   ],
   "metadata": {
    "collapsed": false,
    "pycharm": {
     "name": "#%% md\n"
    }
   }
  },
  {
   "cell_type": "code",
   "execution_count": 5,
   "outputs": [
    {
     "name": "stdout",
     "text": [
      "Counter({0: 4785, 1: 1215})\n"
     ],
     "output_type": "stream"
    }
   ],
   "source": [
    "print(class_num)"
   ],
   "metadata": {
    "collapsed": false,
    "pycharm": {
     "name": "#%%\n",
     "is_executing": false
    }
   }
  },
  {
   "cell_type": "code",
   "execution_count": 6,
   "outputs": [
    {
     "data": {
      "text/plain": "<Figure size 432x288 with 1 Axes>",
      "image/png": "[encoded data removed]"
     },
     "metadata": {
      "needs_background": "light"
     },
     "output_type": "display_data"
    }
   ],
   "source": [
    "# scatter plot, dots colored by class value\n",
    "df = pd.DataFrame(dict(x=X[:,0], y=X[:,1], label=y, clusters=clusters))\n",
    "create_plot(df, title='Total population')"
   ],
   "metadata": {
    "collapsed": false,
    "pycharm": {
     "name": "#%%\n",
     "is_executing": false
    }
   }
  },
  {
   "cell_type": "code",
   "execution_count": 7,
   "outputs": [
    {
     "data": {
      "text/plain": "<Figure size 432x288 with 1 Axes>",
      "image/png": "[encoded data removed]"
     },
     "metadata": {
      "needs_background": "light"
     },
     "output_type": "display_data"
    },
    {
     "data": {
      "text/plain": "<Figure size 432x288 with 1 Axes>",
      "image/png": "[encoded data removed]"
     },
     "metadata": {
      "needs_background": "light"
     },
     "output_type": "display_data"
    }
   ],
   "source": [
    "create_plot(df, title='Total population by clusters', group_by='clusters',\n",
    "            colors={1: 'royalblue', 2: 'red', 3: 'blue', 4: 'orangered'})"
   ],
   "metadata": {
    "collapsed": false,
    "pycharm": {
     "name": "#%%\n",
     "is_executing": false
    }
   }
  },
  {
   "cell_type": "markdown",
   "source": [
    "We hide cluster #1"
   ],
   "metadata": {
    "collapsed": false,
    "pycharm": {
     "name": "#%% md\n"
    }
   }
  },
  {
   "cell_type": "code",
   "execution_count": 8,
   "outputs": [
    {
     "data": {
      "text/plain": "<Figure size 432x288 with 1 Axes>",
      "image/png": "[encoded data removed]"
     },
     "metadata": {
      "needs_background": "light"
     },
     "output_type": "display_data"
    }
   ],
   "source": [
    "#\"Hiding\" cluster 1\n",
    "create_plot(df[df['clusters'] != 2], title='Hiding cl 2')\n",
    "iCl2 = np.where(df['clusters'] == 2)\n",
    "iCl134 = np.where(df['clusters'] != 2)"
   ],
   "metadata": {
    "collapsed": false,
    "pycharm": {
     "name": "#%%\n",
     "is_executing": false
    }
   }
  },
  {
   "cell_type": "markdown",
   "source": [
    "We select a balanced dataset to simulate the fact the our training set is not\n",
    "representative of the real population. The selected dataset will \n",
    "split into a balanced training and a balanced test set."
   ],
   "metadata": {
    "collapsed": false,
    "pycharm": {
     "name": "#%% md\n"
    }
   }
  },
  {
   "cell_type": "code",
   "execution_count": 14,
   "outputs": [],
   "source": [
    "from sklearn.model_selection import train_test_split\n",
    "import numpy as np\n",
    "np.random.seed(1)\n",
    "rsize = round(Counter(y[iCl134])[1]*0.5)\n",
    "bsize = rsize\n",
    "iRedTrain = np.random.choice(np.where(y[iCl134]==1)[0], size=rsize, replace=False)\n",
    "iBlueTrain = np.random.choice(np.where(y[iCl134]==0)[0], size=bsize, replace=False)\n",
    "\n",
    "\n",
    "X_bal = X[iCl134][np.concatenate((iBlueTrain, iRedTrain))]\n",
    "y_bal = y[iCl134][np.concatenate((iBlueTrain, iRedTrain))]\n",
    "X_val = np.concatenate((X[iCl2], X[iCl134][[i for i in range(X[iCl134].shape[0]) if i not in np.concatenate((iBlueTrain, iRedTrain))]]))\n",
    "y_val = np.concatenate((y[iCl2], y[iCl134][[i for i in range(X[iCl134].shape[0]) if i not in np.concatenate((iBlueTrain, iRedTrain))]]))"
   ],
   "metadata": {
    "collapsed": false,
    "pycharm": {
     "name": "#%%\n",
     "is_executing": false
    }
   }
  },
  {
   "cell_type": "code",
   "execution_count": 15,
   "outputs": [
    {
     "data": {
      "text/plain": "<Figure size 432x288 with 1 Axes>",
      "image/png": "[encoded data removed]"
     },
     "metadata": {
      "needs_background": "light"
     },
     "output_type": "display_data"
    },
    {
     "data": {
      "text/plain": "<Figure size 432x288 with 1 Axes>",
      "image/png": "[encoded data removed]"
     },
     "metadata": {
      "needs_background": "light"
     },
     "output_type": "display_data"
    },
    {
     "data": {
      "text/plain": "<Figure size 432x288 with 1 Axes>",
      "image/png": "[encoded data removed]"
     },
     "metadata": {
      "needs_background": "light"
     },
     "output_type": "display_data"
    }
   ],
   "source": [
    "# Stratified selection for training and test\n",
    "X_train_bal, X_test_bal, y_train_bal, y_test_bal = train_test_split(X_bal,\n",
    "                                                                    y_bal,\n",
    "                                                                    stratify=y_bal,\n",
    "                                                                    random_state=1,\n",
    "                                                                    test_size=0.3)\n",
    "\n",
    "create_plot(pd.DataFrame(dict(x=X_train_bal[:, 0],\n",
    "                              y=X_train_bal[:, 1], label=y_train_bal)),\n",
    "            title='Training set balanced')\n",
    "create_plot(pd.DataFrame(dict(x=X_test_bal[:, 0],\n",
    "                              y=X_test_bal[:, 1], label=y_test_bal)),\n",
    "            title='Test set balanced')\n",
    "create_plot(pd.DataFrame(dict(x=X_val[:, 0],\n",
    "                              y=X_val[:, 1], label=y_val)),\n",
    "            title='Validation set')"
   ],
   "metadata": {
    "collapsed": false,
    "pycharm": {
     "name": "#%%\n",
     "is_executing": false
    }
   }
  },
  {
   "cell_type": "markdown",
   "source": [
    "We find the borders on the training set"
   ],
   "metadata": {
    "collapsed": false,
    "pycharm": {
     "name": "#%% md\n"
    }
   }
  },
  {
   "cell_type": "code",
   "execution_count": 16,
   "outputs": [],
   "source": [
    "# POP\n",
    "(mind_train, maxd_train, isborder_train, attr2outerb_train, attr2innerb_train,\n",
    " attr2outerb_train_val, attr2innerb_train_val) = pop_instance_training(X_train_bal, y_train_bal)\n",
    "train_border_examples = X_train_bal[np.argwhere(np.sum(np.abs(isborder_train), axis=1)!=0).ravel(),:]\n",
    "ytrain_border_examples = y_train_bal[np.argwhere(np.sum(np.abs(isborder_train), axis=1)!=0).ravel()]"
   ],
   "metadata": {
    "collapsed": false,
    "pycharm": {
     "name": "#%%\n",
     "is_executing": false
    }
   }
  },
  {
   "cell_type": "code",
   "execution_count": 17,
   "outputs": [],
   "source": [
    "# Training a Support Vector Machine on the balanced dataset\n",
    "from sklearn.svm import LinearSVC\n",
    "clf = LinearSVC(random_state=1, tol=1e-10, max_iter=2000)\n",
    "clf.fit(X_train_bal, y_train_bal)\n",
    "ypred_test_bal = clf.predict(X_test_bal)\n",
    "\n",
    "\n",
    "n_border_test = [0]*X_test_bal.shape[0]\n",
    "for c in list(range(X_test_bal.shape[0])):\n",
    "    #print(c)\n",
    "    xtest = X_test_bal[c]\n",
    "    bor = ''\n",
    "    for i in range(X_test_bal.shape[1]):\n",
    "        bor = bor + check_is_border(xtest[i], attr2outerb_train_val[i], inner=False)\n",
    "        bor = bor + check_is_border(xtest[i], attr2outerb_train_val[i], inner=False)\n",
    "        if 'Outer' in bor or 'Inner' in bor:\n",
    "            n_border_test[c] = n_border_test[c]+1"
   ],
   "metadata": {
    "collapsed": false,
    "pycharm": {
     "name": "#%%\n",
     "is_executing": false
    }
   }
  },
  {
   "cell_type": "code",
   "execution_count": 18,
   "outputs": [],
   "source": [
    "# Reliability on the test set\n",
    "rel_test = 1-np.array(n_border_test)/X_test_bal.shape[1]\n",
    "unreliable_test = np.argwhere(rel_test==0).ravel()\n",
    "reliable_test = np.argwhere(rel_test!=0).ravel() # or !=0"
   ],
   "metadata": {
    "collapsed": false,
    "pycharm": {
     "name": "#%%\n",
     "is_executing": false
    }
   }
  },
  {
   "cell_type": "code",
   "source": [
    "print('Number of instances in test set:'+str(X_test_bal.shape[0]))\n",
    "print('Number of reliable instances in test set:'+str(len(reliable_test)))\n",
    "print('Number of unreliable instances in test set:'+str(len(unreliable_test)))"
   ],
   "metadata": {
    "collapsed": false,
    "pycharm": {
     "name": "#%% \n",
     "is_executing": false
    }
   },
   "execution_count": 19,
   "outputs": [
    {
     "name": "stdout",
     "text": [
      "Number of instances in test set:186\n",
      "Number of reliable instances in test set:176\n",
      "Number of unreliable instances in test set:10\n"
     ],
     "output_type": "stream"
    }
   ]
  },
  {
   "cell_type": "markdown",
   "source": [
    "Accuracy on reliable examples"
   ],
   "metadata": {
    "collapsed": false,
    "pycharm": {
     "name": "#%% md\n"
    }
   }
  },
  {
   "cell_type": "code",
   "execution_count": 20,
   "outputs": [
    {
     "name": "stdout",
     "text": [
      "0.8011363636363636\n"
     ],
     "output_type": "stream"
    }
   ],
   "source": [
    "acc_rel = accuracy_score(y_test_bal[reliable_test], ypred_test_bal[reliable_test])\n",
    "print(acc_rel)"
   ],
   "metadata": {
    "collapsed": false,
    "pycharm": {
     "name": "#%%\n",
     "is_executing": false
    }
   }
  },
  {
   "cell_type": "markdown",
   "source": [
    "Accuracy on non-reliable examples"
   ],
   "metadata": {
    "collapsed": false,
    "pycharm": {
     "name": "#%% md\n"
    }
   }
  },
  {
   "cell_type": "code",
   "execution_count": 21,
   "outputs": [
    {
     "name": "stdout",
     "text": [
      "0.7\n"
     ],
     "output_type": "stream"
    }
   ],
   "source": [
    "print(accuracy_score(y_test_bal[unreliable_test], ypred_test_bal[unreliable_test]))"
   ],
   "metadata": {
    "collapsed": false,
    "pycharm": {
     "name": "#%%\n",
     "is_executing": false
    }
   }
  },
  {
   "cell_type": "markdown",
   "source": [
    "Accuracy on the complete test set"
   ],
   "metadata": {
    "collapsed": false,
    "pycharm": {
     "name": "#%% md\n"
    }
   }
  },
  {
   "cell_type": "code",
   "execution_count": 22,
   "outputs": [
    {
     "name": "stdout",
     "text": [
      "0.7956989247311828\n"
     ],
     "output_type": "stream"
    }
   ],
   "source": [
    "acc_test = accuracy_score(y_test_bal, ypred_test_bal)\n",
    "print(accuracy_score(y_test_bal, ypred_test_bal))"
   ],
   "metadata": {
    "collapsed": false,
    "pycharm": {
     "name": "#%%\n",
     "is_executing": false
    }
   }
  },
  {
   "cell_type": "code",
   "execution_count": 23,
   "outputs": [
    {
     "name": "stdout",
     "text": [
      "Confidence intervals:0.7377548128118339-0.8536430366505317\n"
     ],
     "output_type": "stream"
    }
   ],
   "source": [
    "z=1.96\n",
    "interval = z*np.sqrt(acc_test*(1-acc_test)/X_test_bal.shape[0])\n",
    "conf_inf = [acc_test-interval, acc_test+interval]\n",
    "print('95% Confidence intervals:'+str(conf_inf[0])+'-'+str(conf_inf[1]))"
   ],
   "metadata": {
    "collapsed": false,
    "pycharm": {
     "name": "#%%\n",
     "is_executing": false
    }
   }
  },
  {
   "cell_type": "markdown",
   "source": [
    "Note: the accuracy of the unreliable elements is outside the confidence interval"
   ],
   "metadata": {
    "collapsed": false,
    "pycharm": {
     "name": "#%% md\n"
    }
   }
  },
  {
   "cell_type": "markdown",
   "source": [
    "## Analysis on the Validation set\n",
    "Now we evaluate prediction and reliability on the validation set"
   ],
   "metadata": {
    "collapsed": false,
    "pycharm": {
     "name": "#%% md\n"
    }
   }
  },
  {
   "cell_type": "code",
   "execution_count": 24,
   "outputs": [],
   "source": [
    "# Results on test set are pretty good! Here we see what happens when we consider the (true)\n",
    "# balanced dataset\n",
    "ypred_val = clf.predict(X_val)\n",
    "\n",
    "acc_val = accuracy_score(y_val, ypred_val)\n",
    "prec_val = precision_score(y_val, ypred_val) # Precision decrease a lot! (form 86% to 56%)\n",
    "rec_val = recall_score(y_val, ypred_val)\n",
    "\n",
    "tn_val, fp_val, fn_val, tp_val = confusion_matrix(y_val, ypred_val).ravel()"
   ],
   "metadata": {
    "collapsed": false,
    "pycharm": {
     "name": "#%%\n",
     "is_executing": false
    }
   }
  },
  {
   "cell_type": "code",
   "execution_count": 25,
   "outputs": [],
   "source": [
    "## Reliability on Validation set\n",
    "n_border_val = [0]*X_val.shape[0]\n",
    "for c in list(range(X_val.shape[0])):\n",
    "    # print(c)\n",
    "    xval = X_val[c]\n",
    "    bor = ''\n",
    "    for i in range(X_val.shape[1]):\n",
    "        bor = bor + check_is_border(xval[i], attr2outerb_train_val[i], inner=False)\n",
    "        bor = bor + check_is_border(xval[i], attr2outerb_train_val[i], inner=False)\n",
    "        if 'Outer' in bor or 'Inner' in bor:\n",
    "            n_border_val[c] = n_border_val[c]+1"
   ],
   "metadata": {
    "collapsed": false,
    "pycharm": {
     "name": "#%%\n",
     "is_executing": false
    }
   }
  },
  {
   "cell_type": "markdown",
   "source": [
    "As we can see, classes are really unbalanced in the validation"
   ],
   "metadata": {
    "collapsed": false,
    "pycharm": {
     "name": "#%% md\n"
    }
   }
  },
  {
   "cell_type": "code",
   "execution_count": 26,
   "outputs": [
    {
     "data": {
      "text/plain": "Counter({1: 905, 0: 4475})"
     },
     "metadata": {},
     "output_type": "execute_result",
     "execution_count": 26
    }
   ],
   "source": [
    "Counter(y_val)"
   ],
   "metadata": {
    "collapsed": false,
    "pycharm": {
     "name": "#%%\n",
     "is_executing": false
    }
   }
  },
  {
   "cell_type": "code",
   "execution_count": 27,
   "outputs": [],
   "source": [
    "rel_val = 1-np.array(n_border_val)/X_val.shape[1]\n",
    "unreliable_val = np.argwhere(rel_val==0).ravel()\n",
    "reliable_val = np.argwhere(rel_val==1).ravel() # or !=0"
   ],
   "metadata": {
    "collapsed": false,
    "pycharm": {
     "name": "#%%\n",
     "is_executing": false
    }
   }
  },
  {
   "cell_type": "code",
   "execution_count": 28,
   "outputs": [],
   "source": [
    "acc_unrel_val = accuracy_score(y_val[unreliable_val], ypred_val[unreliable_val])\n",
    "prec_unrel_val = precision_score(y_val[unreliable_val], ypred_val[unreliable_val])\n",
    "mcc_unrel_val = matthews_corrcoef(y_val[unreliable_val], ypred_val[unreliable_val])\n",
    "\n",
    "acc_rel_val = accuracy_score(y_val[reliable_val], ypred_val[reliable_val])\n",
    "prec_rel_val = precision_score(y_val[reliable_val], ypred_val[reliable_val])\n",
    "mcc_rel_val = matthews_corrcoef(y_val[reliable_val], ypred_val[reliable_val])\n",
    "\n",
    "acc_val = accuracy_score(y_val, ypred_val)\n",
    "prec_val = precision_score(y_val, ypred_val)\n",
    "mcc_val = matthews_corrcoef(y_val, ypred_val)"
   ],
   "metadata": {
    "collapsed": false,
    "pycharm": {
     "name": "#%%\n",
     "is_executing": false
    }
   }
  },
  {
   "cell_type": "code",
   "execution_count": 29,
   "outputs": [
    {
     "name": "stdout",
     "text": [
      "Number of elements in validation:5380\n",
      "Number of reliable examples in validation:5004\n",
      "Number of unreliable examples in validation:372\n"
     ],
     "output_type": "stream"
    }
   ],
   "source": [
    "print('Number of elements in validation:'+str(X_val.shape[0]))\n",
    "print('Number of reliable examples in validation:'+str(len(reliable_val)))\n",
    "print('Number of unreliable examples in validation:'+str(len(unreliable_val)))"
   ],
   "metadata": {
    "collapsed": false,
    "pycharm": {
     "name": "#%%\n",
     "is_executing": false
    }
   }
  },
  {
   "cell_type": "markdown",
   "source": [
    "Performance on the validation"
   ],
   "metadata": {
    "collapsed": false,
    "pycharm": {
     "name": "#%% md\n"
    }
   }
  },
  {
   "cell_type": "code",
   "execution_count": 30,
   "outputs": [
    {
     "name": "stdout",
     "text": [
      "Accuracy on validation:0.8617100371747212\n",
      "Precision on validation:0.5665839536807279\n",
      "MCC on validation:0.5733757721484722\n"
     ],
     "output_type": "stream"
    }
   ],
   "source": [
    "print('Accuracy on validation:'+str(acc_val))\n",
    "print('Precision on validation:'+str(prec_val))\n",
    "print('MCC on validation:'+str(mcc_val))"
   ],
   "metadata": {
    "collapsed": false,
    "pycharm": {
     "name": "#%%\n",
     "is_executing": false
    }
   }
  },
  {
   "cell_type": "markdown",
   "source": [
    "Performance on reliable examples of the validation"
   ],
   "metadata": {
    "collapsed": false,
    "pycharm": {
     "name": "#%% md\n"
    }
   }
  },
  {
   "cell_type": "code",
   "execution_count": 31,
   "outputs": [
    {
     "name": "stdout",
     "text": [
      "Accuracy on reliable validation:0.8852917665867306\n",
      "Precision on reliable validation:0.655705996131528\n",
      "MCC on reliable validation:0.6344713281080727\n"
     ],
     "output_type": "stream"
    }
   ],
   "source": [
    "print('Accuracy on reliable validation:'+str(acc_rel_val))\n",
    "print('Precision on reliable validation:'+str(prec_rel_val))\n",
    "print('MCC on reliable validation:'+str(mcc_rel_val))"
   ],
   "metadata": {
    "collapsed": false,
    "pycharm": {
     "name": "#%%\n",
     "is_executing": false
    }
   }
  },
  {
   "cell_type": "markdown",
   "source": [
    "Performance on unreliable examples of the validation"
   ],
   "metadata": {
    "collapsed": false
   }
  },
  {
   "cell_type": "code",
   "execution_count": 32,
   "outputs": [
    {
     "name": "stdout",
     "text": [
      "Accuracy on unreliable validation:0.5456989247311828\n",
      "Precision on unreliable validation:0.04\n",
      "MCC on unreliable validation:0.12016518631918222\n"
     ],
     "output_type": "stream"
    }
   ],
   "source": [
    "print('Accuracy on unreliable validation:'+str(acc_unrel_val))\n",
    "print('Precision on unreliable validation:'+str(prec_unrel_val))\n",
    "print('MCC on unreliable validation:'+str(mcc_unrel_val))"
   ],
   "metadata": {
    "collapsed": false,
    "pycharm": {
     "name": "#%%\n",
     "is_executing": false
    }
   }
  },
  {
   "cell_type": "code",
   "execution_count": 33,
   "outputs": [
    {
     "name": "stdout",
     "text": [
      "Confidence intervals for MCC on Validation:0.5601595490824058-0.5865919952145386\n"
     ],
     "output_type": "stream"
    }
   ],
   "source": [
    "z=1.96\n",
    "interval = z*np.sqrt(mcc_val*(1-mcc_val)/X_val.shape[0])\n",
    "conf_inf = [mcc_val-interval, mcc_val+interval]\n",
    "print('Confidence intervals for MCC on Validation:'+str(conf_inf[0])+'-'+str(conf_inf[1]))"
   ],
   "metadata": {
    "collapsed": false,
    "pycharm": {
     "name": "#%%\n",
     "is_executing": false
    }
   }
  },
  {
   "cell_type": "code",
   "execution_count": 34,
   "outputs": [
    {
     "name": "stdout",
     "text": [
      "Confidence intervals for Precision on Validation:0.5533420763034527-0.5798258310580031\n"
     ],
     "output_type": "stream"
    }
   ],
   "source": [
    "z=1.96\n",
    "interval = z*np.sqrt(prec_val*(1-prec_val)/X_val.shape[0])\n",
    "conf_inf = [prec_val-interval, prec_val+interval]\n",
    "print('Confidence intervals for Precision on Validation:'+str(conf_inf[0])+'-'+str(conf_inf[1]))"
   ],
   "metadata": {
    "collapsed": false,
    "pycharm": {
     "name": "#%%\n",
     "is_executing": false
    }
   }
  },
  {
   "cell_type": "markdown",
   "source": [
    "Also here we can note that that the MCC and the Precision of unreliable examples are\n",
    "outside the confidence intervals of the mean computed over all the examples."
   ],
   "metadata": {
    "collapsed": false,
    "pycharm": {
     "name": "#%% md\n"
    }
   }
  },
  {
   "cell_type": "markdown",
   "source": [
    "## References\n",
    "[1] Tutorial: Safe and Reliable Machine Learning, Suchi Saria, Adarsh Subbaswamym, 2019\n",
    "[2] Olvera-López, J.A., Carrasco-Ochoa, J.A., Martínez-Trinidad, \n",
    "J.F. et al. A review of instance selection methods. Artif Intell Rev 34, 133–143 (2010). https://doi.org/10.1007/s10462-010-9165-y\n",
    "[3] Finding representative patterns with ordered projections, ose􏰀 C. Riquelme, Jesu􏰀s S. Aguilar-Ruiz, Miguel Toro, 2003\n",
    "[4] Peter Schulam and Suchi Saria. 2019. Can you trust this prediction? Audit- ing Pointwise Reliability After Learning. In Artificial Intelligence and Statistics (AISTATS).\n",
    "[5] M. Kukar, I. Kononenko, \"Reliable Classifications with Machine Learning\", Proc. 13th European Conf. Machine Learning, 2002"
   ],
   "metadata": {
    "collapsed": false,
    "pycharm": {
     "name": "#%% md\n"
    }
   }
  }
 ],
 "metadata": {
  "kernelspec": {
   "display_name": "Python 3",
   "language": "python",
   "name": "python3"
  },
  "language_info": {
   "codemirror_mode": {
    "name": "ipython",
    "version": 2
   },
   "file_extension": ".py",
   "mimetype": "text/x-python",
   "name": "python",
   "nbconvert_exporter": "python",
   "pygments_lexer": "ipython2",
   "version": "2.7.6"
  },
  "pycharm": {
   "stem_cell": {
    "cell_type": "raw",
    "source": [],
    "metadata": {
     "collapsed": false
    }
   }
  }
 },
 "nbformat": 4,
 "nbformat_minor": 0
}