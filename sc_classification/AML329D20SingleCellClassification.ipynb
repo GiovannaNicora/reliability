{
 "cells": [
  {
   "cell_type": "markdown",
   "metadata": {},
   "source": [
    "# Tumor/Normal classification from Single-Cell gene expression data"
   ]
  },
  {
   "cell_type": "code",
   "execution_count": 1,
   "metadata": {
    "pycharm": {
     "is_executing": false,
     "name": "#%%\n"
    }
   },
   "outputs": [
    {
     "name": "stderr",
     "output_type": "stream",
     "text": [
      "/Users/giovannanicora/.conda/envs/untitled/lib/python3.7/site-packages/anndata/_core/anndata.py:21: FutureWarning: pandas.core.index is deprecated and will be removed in a future version.  The public classes are available in the top-level namespace.\n",
      "  from pandas.core.index import RangeIndex\n"
     ]
    }
   ],
   "source": [
    "import pandas as pd\n",
    "from collections import Counter\n",
    "import numpy as np\n",
    "import scanpy as sc\n",
    "\n",
    "\n",
    "from sklearn.model_selection import train_test_split, cross_validate\n",
    "from sklearn.svm import SVC\n",
    "from sklearn.metrics import *"
   ]
  },
  {
   "cell_type": "code",
   "execution_count": 6,
   "metadata": {
    "pycharm": {
     "is_executing": false,
     "name": "#%%\n"
    }
   },
   "outputs": [],
   "source": [
    "dir_anno = '/Users/giovannanicora/Documents/single-cell_hierarchies/per_amia/GSE116256_RAW/anno_files/'\n",
    "path_anno = dir_anno+'GSM3587943_AML329-D20.anno.txt.gz'\n",
    "anno = pd.read_csv(path_anno, sep='\\t')"
   ]
  },
  {
   "cell_type": "code",
   "execution_count": 7,
   "metadata": {
    "pycharm": {
     "is_executing": false,
     "name": "#%%\n"
    }
   },
   "outputs": [
    {
     "name": "stdout",
     "output_type": "stream",
     "text": [
      "Counter({'normal': 694, 'malignant': 259})\n",
      "Counter({'Mono': 336, 'Prog-like': 108, 'T': 86, 'cDC': 81, 'cDC-like': 74, 'ProMono': 51, 'GMP-like': 39, 'CTL': 33, 'NK': 30, 'B': 25, 'Prog': 19, 'Mono-like': 17, 'GMP': 12, 'ProMono-like': 11, 'HSC-like': 10, 'lateEry': 9, 'HSC': 6, 'earlyEry': 4, 'Plasma': 1, 'pDC': 1})\n"
     ]
    }
   ],
   "source": [
    "anno.columns\n",
    "print(Counter(anno.PredictionRefined))\n",
    "print(Counter(anno.CellType))"
   ]
  },
  {
   "cell_type": "code",
   "execution_count": 8,
   "metadata": {
    "pycharm": {
     "is_executing": false,
     "name": "#%% \n"
    }
   },
   "outputs": [],
   "source": [
    "# Myeloid cells\n",
    "mcells = ['HSC', 'Prog', 'GMP', 'Promono', 'Mono', 'cDC', 'pDC']\n",
    "\n",
    "# Selecting only myeloid cells (normal or tumor)\n",
    "ind_myeloid_malign = [i for i,x in enumerate(anno.CellType) if 'like' in x]\n",
    "ind_myeloid_benign = [i for i,x in enumerate(anno.CellType) if x in mcells]"
   ]
  },
  {
   "cell_type": "code",
   "execution_count": 9,
   "metadata": {
    "pycharm": {
     "is_executing": false,
     "name": "#%%\n"
    }
   },
   "outputs": [
    {
     "data": {
      "text/plain": [
       "455"
      ]
     },
     "execution_count": 9,
     "metadata": {},
     "output_type": "execute_result"
    }
   ],
   "source": [
    "len(ind_myeloid_benign)"
   ]
  },
  {
   "cell_type": "code",
   "execution_count": 10,
   "metadata": {
    "pycharm": {
     "is_executing": false,
     "name": "#%%\n"
    }
   },
   "outputs": [
    {
     "data": {
      "text/plain": [
       "259"
      ]
     },
     "execution_count": 10,
     "metadata": {},
     "output_type": "execute_result"
    }
   ],
   "source": [
    "len(ind_myeloid_malign)"
   ]
  },
  {
   "cell_type": "code",
   "execution_count": 14,
   "metadata": {
    "pycharm": {
     "is_executing": false,
     "name": "#%%\n"
    }
   },
   "outputs": [],
   "source": [
    "ge_files = '/Users/giovannanicora/Documents/single-cell_hierarchies/per_amia/GSE116256_RAW/ge_files/'\n",
    "df = pd.read_csv(ge_files+'GSM3587942_AML329-D20.dem.txt.gz',\n",
    "                 sep='\\t')"
   ]
  },
  {
   "cell_type": "code",
   "execution_count": 15,
   "metadata": {
    "pycharm": {
     "is_executing": false,
     "name": "#%%\n"
    }
   },
   "outputs": [
    {
     "data": {
      "text/plain": [
       "(27899, 954)"
      ]
     },
     "execution_count": 15,
     "metadata": {},
     "output_type": "execute_result"
    }
   ],
   "source": [
    "df.shape"
   ]
  },
  {
   "cell_type": "code",
   "execution_count": 16,
   "metadata": {
    "pycharm": {
     "is_executing": false,
     "name": "#%%\n"
    }
   },
   "outputs": [
    {
     "data": {
      "text/plain": [
       "(27899, 714)"
      ]
     },
     "execution_count": 16,
     "metadata": {},
     "output_type": "execute_result"
    }
   ],
   "source": [
    "#df.head()\n",
    "gene_names = df['Gene']\n",
    "# Selecting only Myeloid\n",
    "barcodes_myeloid = list(anno.Cell[ind_myeloid_malign])+list(anno.Cell[ind_myeloid_benign])\n",
    "m_col = [i for i,x in enumerate(df.columns) if x in barcodes_myeloid]\n",
    "df = df.iloc[:, m_col]\n",
    "df.shape"
   ]
  },
  {
   "cell_type": "code",
   "execution_count": 17,
   "metadata": {
    "pycharm": {
     "is_executing": false,
     "name": "#%%\n"
    }
   },
   "outputs": [],
   "source": [
    "barcodes = [x for x in df.columns if 'Gene' not in x]\n",
    "anndata = sc.AnnData(X=df.T.to_numpy(), obs=barcodes, var=gene_names.values)"
   ]
  },
  {
   "cell_type": "code",
   "execution_count": 18,
   "metadata": {
    "pycharm": {
     "is_executing": false,
     "name": "#%%\n"
    }
   },
   "outputs": [],
   "source": [
    "anndata.var_names = gene_names.values"
   ]
  },
  {
   "cell_type": "code",
   "execution_count": 19,
   "metadata": {
    "pycharm": {
     "is_executing": false,
     "name": "#%%\n"
    }
   },
   "outputs": [],
   "source": [
    "anndata.obs_names = barcodes"
   ]
  },
  {
   "cell_type": "code",
   "execution_count": 20,
   "metadata": {
    "pycharm": {
     "is_executing": false,
     "name": "#%%\n"
    }
   },
   "outputs": [
    {
     "data": {
      "image/png": "[encoded data removed]",
      "text/plain": [
       "<Figure size 360x396 with 1 Axes>"
      ]
     },
     "metadata": {
      "needs_background": "light"
     },
     "output_type": "display_data"
    }
   ],
   "source": [
    "anndata.raw = anndata\n",
    "sc.pl.highest_expr_genes(anndata, n_top=20, )"
   ]
  },
  {
   "cell_type": "code",
   "execution_count": 21,
   "metadata": {
    "pycharm": {
     "is_executing": false,
     "name": "#%%\n"
    }
   },
   "outputs": [
    {
     "data": {
      "text/plain": [
       "(714, 27899)"
      ]
     },
     "execution_count": 21,
     "metadata": {},
     "output_type": "execute_result"
    }
   ],
   "source": [
    "anndata.shape\n"
   ]
  },
  {
   "cell_type": "code",
   "execution_count": 22,
   "metadata": {
    "pycharm": {
     "is_executing": false,
     "name": "#%%\n"
    }
   },
   "outputs": [],
   "source": [
    "# Normalization and filtering\n",
    "sc.pp.filter_genes(anndata, min_cells=50)"
   ]
  },
  {
   "cell_type": "code",
   "execution_count": 23,
   "metadata": {
    "pycharm": {
     "is_executing": false,
     "name": "#%%\n"
    }
   },
   "outputs": [
    {
     "data": {
      "text/plain": [
       "(714, 4995)"
      ]
     },
     "execution_count": 23,
     "metadata": {},
     "output_type": "execute_result"
    }
   ],
   "source": [
    "anndata.shape"
   ]
  },
  {
   "cell_type": "code",
   "execution_count": 24,
   "metadata": {
    "pycharm": {
     "is_executing": false,
     "name": "#%%\n"
    }
   },
   "outputs": [],
   "source": [
    "sc.pp.normalize_total(anndata, target_sum=1e4)\n",
    "sc.pp.log1p(anndata)"
   ]
  },
  {
   "cell_type": "code",
   "execution_count": 25,
   "metadata": {
    "pycharm": {
     "is_executing": false,
     "name": "#%%\n"
    }
   },
   "outputs": [
    {
     "data": {
      "text/plain": [
       "7.583314"
      ]
     },
     "execution_count": 25,
     "metadata": {},
     "output_type": "execute_result"
    }
   ],
   "source": [
    "np.max(anndata.raw.X)\n",
    "np.max(anndata.X)"
   ]
  },
  {
   "cell_type": "code",
   "execution_count": 26,
   "metadata": {
    "pycharm": {
     "is_executing": false,
     "name": "#%%\n"
    }
   },
   "outputs": [
    {
     "data": {
      "image/png": "[encoded data removed]",
      "text/plain": [
       "<Figure size 360x828 with 1 Axes>"
      ]
     },
     "metadata": {
      "needs_background": "light"
     },
     "output_type": "display_data"
    }
   ],
   "source": [
    "sc.pl.highest_expr_genes(anndata, n_top=50, )"
   ]
  },
  {
   "cell_type": "markdown",
   "metadata": {},
   "source": [
    "## Machine Learning"
   ]
  },
  {
   "cell_type": "code",
   "execution_count": 27,
   "metadata": {
    "pycharm": {
     "is_executing": false,
     "name": "#%%\n"
    }
   },
   "outputs": [],
   "source": [
    "barcodes2class = dict(zip(anno.Cell,\n",
    "                          anno.PredictionRefined))\n",
    "y_true = [barcodes2class[x] for x in anndata.obs_names]\n",
    "X = anndata.X\n",
    "X_train = X\n",
    "classdict = dict(normal=0, malignant=1)\n",
    "y_true_num = [classdict[x] for x in y_true]\n",
    "y_train = np.array(y_true_num)"
   ]
  },
  {
   "cell_type": "markdown",
   "metadata": {},
   "source": [
    "POP on training set"
   ]
  },
  {
   "cell_type": "code",
   "execution_count": 28,
   "metadata": {
    "pycharm": {
     "is_executing": false,
     "name": "#%%\n"
    }
   },
   "outputs": [],
   "source": [
    "# POP on the training set\n",
    "from pop_implemetation import *\n",
    "\n",
    "(mind_train, maxd_train, isborder_train, attr2outerb_train, attr2innerb_train,\n",
    " attr2outerb_train_val, attr2innerb_train_val) = pop_instance_training(X_train, y_train)\n",
    "train_border_examples = X_train[np.argwhere(np.sum(np.abs(isborder_train), axis=1)!=0).ravel(),:]\n",
    "ytrain_border_examples = y_train[np.argwhere(np.sum(np.abs(isborder_train), axis=1)!=0).ravel()]\n"
   ]
  },
  {
   "cell_type": "code",
   "execution_count": 29,
   "metadata": {
    "pycharm": {
     "is_executing": false,
     "name": "#%%\n"
    }
   },
   "outputs": [],
   "source": [
    "clf_svm = SVC()\n",
    "scores_svm = cross_validate(clf_svm, X_train, \n",
    "                        y_train, \n",
    "                        scoring={'accuracy_score':make_scorer(accuracy_score),\n",
    "                                 'precision_score':make_scorer(precision_score),\n",
    "                                 'prc':make_scorer(average_precision_score),\n",
    "                                 'mcc':make_scorer(matthews_corrcoef)})\n",
    "\n",
    "                                "
   ]
  },
  {
   "cell_type": "code",
   "execution_count": 30,
   "metadata": {
    "pycharm": {
     "is_executing": false,
     "name": "#%%\n"
    }
   },
   "outputs": [
    {
     "data": {
      "text/plain": [
       "SVC(C=1.0, break_ties=False, cache_size=200, class_weight=None, coef0=0.0,\n",
       "    decision_function_shape='ovr', degree=3, gamma='scale', kernel='rbf',\n",
       "    max_iter=-1, probability=False, random_state=None, shrinking=True,\n",
       "    tol=0.001, verbose=False)"
      ]
     },
     "execution_count": 30,
     "metadata": {},
     "output_type": "execute_result"
    }
   ],
   "source": [
    "# Training on the entire training set\n",
    "clf_svm.fit(X_train, y_train)"
   ]
  },
  {
   "cell_type": "code",
   "execution_count": 31,
   "metadata": {
    "pycharm": {
     "is_executing": false,
     "name": "#%%\n"
    }
   },
   "outputs": [
    {
     "data": {
      "text/plain": [
       "{'fit_time': array([2.31891513, 2.3597579 , 1.82345796, 2.3711102 , 1.91421795]),\n",
       " 'score_time': array([0.52428079, 0.52223301, 0.39557981, 0.37691689, 0.38402414]),\n",
       " 'test_accuracy_score': array([0.86713287, 0.86713287, 0.91608392, 0.86013986, 0.88028169]),\n",
       " 'test_precision_score': array([0.74626866, 0.78947368, 0.84482759, 0.77586207, 0.79310345]),\n",
       " 'test_prc': array([0.73155203, 0.73214943, 0.81706655, 0.72037015, 0.75055948]),\n",
       " 'test_mcc': array([0.74683712, 0.72068518, 0.82629648, 0.70786962, 0.75161446])}"
      ]
     },
     "execution_count": 31,
     "metadata": {},
     "output_type": "execute_result"
    }
   ],
   "source": [
    "scores_svm"
   ]
  },
  {
   "cell_type": "code",
   "execution_count": 33,
   "metadata": {
    "pycharm": {
     "is_executing": false,
     "name": "#%%\n"
    }
   },
   "outputs": [
    {
     "data": {
      "text/plain": [
       "['fit_time:2.1574918270111083',\n",
       " 'score_time:0.4406069278717041',\n",
       " 'test_accuracy_score:0.878154240126071',\n",
       " 'test_precision_score:0.7899070888750441',\n",
       " 'test_prc:0.7503395273323197',\n",
       " 'test_mcc:0.7506605700652333']"
      ]
     },
     "execution_count": 33,
     "metadata": {},
     "output_type": "execute_result"
    }
   ],
   "source": [
    "[x+':'+str(np.mean(scores_svm[x])) for x in scores_svm.keys() ]\n"
   ]
  },
  {
   "cell_type": "markdown",
   "metadata": {
    "pycharm": {
     "name": "#%% md\n"
    }
   },
   "source": [
    "### Predicting on a Validation dataset\n",
    "We try to predict the class of new unseen examples from different patients"
   ]
  },
  {
   "cell_type": "code",
   "execution_count": 34,
   "metadata": {
    "pycharm": {
     "is_executing": false,
     "name": "#%%\n"
    }
   },
   "outputs": [],
   "source": [
    "path_anno = dir_anno+'GSM3587932_AML328-D0.anno.txt.gz'\n",
    "anno329d0 = pd.read_csv(path_anno, sep='\\t')\n",
    "anno329d37 = pd.read_csv(dir_anno+'GSM3587945_AML329-D37.anno.txt.gz',\n",
    "                         sep='\\t')\n",
    "\n",
    "\n",
    "# Selecting only myeloid cells (normal or tumor)\n",
    "ind_myeloid_malign_d0 = [i for i, x in enumerate(anno329d0.CellType) if 'like' in x]\n",
    "ind_myeloid_benign_d0 = [i for i, x in enumerate(anno329d0.CellType) if x in mcells]\n",
    "ind_myeloid_malign_d37 = [i for i, x in enumerate(anno329d37.CellType) if 'like' in x]\n",
    "ind_myeloid_benign_d37 = [i for i, x in enumerate(anno329d37.CellType) if x in mcells]"
   ]
  },
  {
   "cell_type": "code",
   "execution_count": 37,
   "metadata": {
    "pycharm": {
     "is_executing": false,
     "name": "#%%\n"
    }
   },
   "outputs": [],
   "source": [
    "df_d0 = pd.read_csv(ge_files+'GSM3587931_AML328-D0.dem.txt.gz',\n",
    "                 sep='\\t')\n",
    "df_d37 = pd.read_csv(ge_files+'GSM3587944_AML329-D37.dem.txt.gz',\n",
    "                 sep='\\t')\n",
    "iGenes_d0 = [i for i, x in enumerate(df_d0['Gene']) if x in anndata.var_names]\n",
    "iGenes_d37 = [i for i, x in enumerate(df_d37['Gene']) if x in anndata.var_names]\n",
    "\n",
    "gene_names_d0 = df_d0['Gene']\n",
    "gene_names_d37 = df_d37['Gene']"
   ]
  },
  {
   "cell_type": "code",
   "execution_count": 38,
   "metadata": {
    "pycharm": {
     "is_executing": false,
     "name": "#%%\n"
    }
   },
   "outputs": [],
   "source": [
    "# Selecting only Myeloid\n",
    "barcodes_myeloid_d0 = list(anno329d0.Cell[ind_myeloid_malign_d0]) + list(anno329d0.Cell[ind_myeloid_benign_d0])\n",
    "barcodes_myeloid_d37 = list(anno329d37.Cell[ind_myeloid_malign_d37]) + list(anno329d37.Cell[ind_myeloid_benign_d37])\n",
    "\n",
    "m_col_d0 = [i for i, x in enumerate(df_d0.columns) if x in barcodes_myeloid_d0]\n",
    "m_col_d37 = [i for i, x in enumerate(df_d37.columns) if x in barcodes_myeloid_d37]\n",
    "\n",
    "df_d37 = df_d37.iloc[iGenes_d37, m_col_d37]\n",
    "df_d0 = df_d0.iloc[iGenes_d0, m_col_d0]\n",
    "\n",
    "\n",
    "barcodes_d0 = [x for x in df_d0.columns if 'Gene' not in x]\n",
    "barcodes_d37 = [x for x in df_d37.columns if 'Gene' not in x]\n",
    "\n",
    "df = pd.concat((df_d0, df_d37),axis=1, ignore_index=True)\n",
    "\n",
    "barcodes = barcodes_d0+barcodes_d37\n",
    "anndata_val = sc.AnnData(X=df.T.to_numpy(), obs=barcodes, var=anndata.var_names)\n",
    "\n",
    "anndata_val.var_names = anndata.var_names\n",
    "\n",
    "anndata_val.obs_names = barcodes"
   ]
  },
  {
   "cell_type": "code",
   "execution_count": 39,
   "metadata": {
    "pycharm": {
     "is_executing": false,
     "name": "#%%\n"
    }
   },
   "outputs": [
    {
     "ename": "NameError",
     "evalue": "name 'clf_lr' is not defined",
     "output_type": "error",
     "traceback": [
      "\u001b[0;31m---------------------------------------------------------------------------\u001b[0m",
      "\u001b[0;31mNameError\u001b[0m                                 Traceback (most recent call last)",
      "\u001b[0;32m<ipython-input-39-b7dca33b5d98>\u001b[0m in \u001b[0;36m<module>\u001b[0;34m\u001b[0m\n\u001b[1;32m     28\u001b[0m \u001b[0;34m\u001b[0m\u001b[0m\n\u001b[1;32m     29\u001b[0m \u001b[0mypred_val_svm\u001b[0m \u001b[0;34m=\u001b[0m \u001b[0mclf_svm\u001b[0m\u001b[0;34m.\u001b[0m\u001b[0mpredict\u001b[0m\u001b[0;34m(\u001b[0m\u001b[0mX_val\u001b[0m\u001b[0;34m)\u001b[0m\u001b[0;34m\u001b[0m\u001b[0;34m\u001b[0m\u001b[0m\n\u001b[0;32m---> 30\u001b[0;31m \u001b[0mypred_val_lr\u001b[0m \u001b[0;34m=\u001b[0m \u001b[0mclf_lr\u001b[0m\u001b[0;34m.\u001b[0m\u001b[0mpredict\u001b[0m\u001b[0;34m(\u001b[0m\u001b[0mX_val\u001b[0m\u001b[0;34m)\u001b[0m\u001b[0;34m\u001b[0m\u001b[0;34m\u001b[0m\u001b[0m\n\u001b[0m\u001b[1;32m     31\u001b[0m \u001b[0;34m\u001b[0m\u001b[0m\n\u001b[1;32m     32\u001b[0m \u001b[0macc_val_svm\u001b[0m \u001b[0;34m=\u001b[0m \u001b[0maccuracy_score\u001b[0m\u001b[0;34m(\u001b[0m\u001b[0my_val\u001b[0m\u001b[0;34m,\u001b[0m \u001b[0mypred_val_svm\u001b[0m\u001b[0;34m)\u001b[0m\u001b[0;34m\u001b[0m\u001b[0;34m\u001b[0m\u001b[0m\n",
      "\u001b[0;31mNameError\u001b[0m: name 'clf_lr' is not defined"
     ]
    }
   ],
   "source": [
    "anndata_val.shape"
   ]
  },
  {
   "cell_type": "code",
   "execution_count": null,
   "metadata": {
    "pycharm": {
     "name": "#%%\n"
    }
   },
   "outputs": [],
   "source": [
    "# Normalization per cell\n",
    "sc.pp.normalize_total(anndata_val)\n",
    "sc.pp.log1p(anndata_val)"
   ]
  },
  {
   "cell_type": "code",
   "execution_count": null,
   "metadata": {
    "pycharm": {
     "name": "#%%\n"
    }
   },
   "outputs": [],
   "source": [
    "\n",
    "barcodes2class = dict(zip(pd.concat((anno329d0.Cell, anno329d37.Cell)),\n",
    "                          pd.concat((anno329d0.PredictionRefined, anno329d37.PredictionRefined))))\n",
    "\n",
    "\n",
    "\n",
    "y_true_val = [barcodes2class[x] for x in anndata_val.obs_names]\n",
    "\n",
    "X_val = anndata_val.X\n",
    "y_true_val_num = [classdict[x] for x in y_true_val]\n",
    "y_val = np.array(y_true_val_num)"
   ]
  },
  {
   "cell_type": "code",
   "execution_count": 42,
   "metadata": {
    "pycharm": {
     "is_executing": false,
     "name": "#%%\n"
    }
   },
   "outputs": [
    {
     "data": {
      "text/plain": [
       "Counter({1: 709, 0: 237})"
      ]
     },
     "execution_count": 42,
     "metadata": {},
     "output_type": "execute_result"
    }
   ],
   "source": [
    "vald = Counter(y_val)\n",
    "vald"
   ]
  },
  {
   "cell_type": "code",
   "execution_count": 43,
   "metadata": {
    "pycharm": {
     "is_executing": false,
     "name": "#%%\n"
    }
   },
   "outputs": [],
   "source": [
    "ypred_val_svm = clf_svm.predict(X_val)\n",
    "\n",
    "acc_val_svm = accuracy_score(y_val, ypred_val_svm)\n",
    "\n",
    "prec_val_svm = precision_score(y_val, ypred_val_svm)  # Precision decrease a lot! (form 86% to 56%)\n",
    "\n",
    "rec_val_svm = recall_score(y_val, ypred_val_svm)\n",
    "\n",
    "tn_val_svm, fp_val_svm, fn_val_svm, tp_val_svm = confusion_matrix(y_val, ypred_val_svm).ravel()"
   ]
  },
  {
   "cell_type": "code",
   "execution_count": 50,
   "metadata": {
    "pycharm": {
     "is_executing": false,
     "name": "#%%\n"
    }
   },
   "outputs": [
    {
     "name": "stdout",
     "output_type": "stream",
     "text": [
      "Accuracy on validation:0.638477801268499\n",
      "Precision on validation:0.8863157894736842\n",
      "Recall on validation:0.5937940761636107\n",
      "Specificity on validation:0.7721518987341772\n"
     ]
    }
   ],
   "source": [
    "print('Accuracy on validation:'+str(acc_val_svm))\n",
    "print('Precision on validation:'+str(prec_val_svm))\n",
    "print('Recall on validation:'+str(rec_val_svm))\n",
    "spec_svm = tn_val_svm / (tn_val_svm + fp_val_svm)\n",
    "print('Specificity on validation:'+str(spec_svm))"
   ]
  },
  {
   "cell_type": "code",
   "execution_count": 51,
   "metadata": {
    "pycharm": {
     "is_executing": false,
     "name": "#%%\n"
    }
   },
   "outputs": [],
   "source": [
    "## Reliability on Validation set\n",
    "n_border_val = [0] * X_val.shape[0]\n",
    "for c in list(range(X_val.shape[0])):\n",
    "    # print(c)\n",
    "    xval = X_val[c]\n",
    "    bor = ''\n",
    "    for i in range(X_val.shape[1]):\n",
    "        bor = bor + check_is_border(xval[i], attr2outerb_train_val[i], inner=False)\n",
    "        bor = bor + check_is_border(xval[i], attr2outerb_train_val[i], inner=False)\n",
    "        if 'Outer' in bor or 'Inner' in bor:\n",
    "            n_border_val[c] = n_border_val[c] + 1"
   ]
  },
  {
   "cell_type": "code",
   "execution_count": 52,
   "metadata": {
    "pycharm": {
     "is_executing": false,
     "name": "#%%\n"
    }
   },
   "outputs": [
    {
     "name": "stdout",
     "output_type": "stream",
     "text": [
      "Number of elements in validation:946\n",
      "Number of reliable examples in validation:109\n",
      "Number of unreliable examples in validation:837\n",
      "Accuracy on validation:0.638477801268499\n",
      "Precision on validation:0.8863157894736842\n",
      "MCC on validation:0.31714437053131567\n",
      "Accuracy on reliable validation:0.7798165137614679\n",
      "Precision on reliable validation:0.9857142857142858\n",
      "MCC on reliable validation:0.5231497186249773\n",
      "Accuracy on unreliable validation:0.6200716845878136\n",
      "Precision on unreliable validation:0.8691358024691358\n",
      "MCC on unreliable validation:0.29031064798654\n",
      "Confidence intervals for MCC on Validation:0.28748899324665833-0.346799747815973\n",
      "Confidence intervals for Precision on Validation:0.866087702077014-0.9065438768703543\n"
     ]
    }
   ],
   "source": [
    "rel_val = 1 - np.array(n_border_val) / X_val.shape[1]\n",
    "unreliable_val = np.argwhere(rel_val == 0).ravel()\n",
    "reliable_val = np.argwhere(rel_val > 0).ravel()  # or !=0"
   ]
  },
  {
   "cell_type": "code",
   "execution_count": 53,
   "metadata": {
    "pycharm": {
     "is_executing": false,
     "name": "#%%\n"
    }
   },
   "outputs": [
    {
     "name": "stdout",
     "output_type": "stream",
     "text": [
      "Number of elements in validation:946\n",
      "Number of reliable examples in validation:109\n",
      "Number of unreliable examples in validation:837\n",
      "Accuracy on validation:0.638477801268499\n",
      "Precision on validation:0.8863157894736842\n",
      "MCC on validation:0.31714437053131567\n",
      "Accuracy on reliable validation:0.7798165137614679\n",
      "Precision on reliable validation:0.9857142857142858\n",
      "MCC on reliable validation:0.5231497186249773\n",
      "Accuracy on unreliable validation:0.6200716845878136\n",
      "Precision on unreliable validation:0.8691358024691358\n",
      "MCC on unreliable validation:0.29031064798654\n",
      "Confidence intervals for MCC on Validation:0.28748899324665833-0.346799747815973\n",
      "Confidence intervals for Precision on Validation:0.866087702077014-0.9065438768703543\n"
     ]
    }
   ],
   "source": [
    "reliable_val\n",
    "unreliable_val"
   ]
  },
  {
   "cell_type": "code",
   "execution_count": 64,
   "metadata": {
    "pycharm": {
     "is_executing": false,
     "name": "#%%\n"
    }
   },
   "outputs": [],
   "source": [
    "acc_unrel_val_svm = accuracy_score(y_val[unreliable_val], ypred_val_svm[unreliable_val])\n",
    "prec_unrel_val_svm = precision_score(y_val[unreliable_val], ypred_val_svm[unreliable_val])\n",
    "mcc_unrel_val_svm = matthews_corrcoef(y_val[unreliable_val], ypred_val_svm[unreliable_val])\n",
    "\n",
    "acc_rel_val_svm = accuracy_score(y_val[reliable_val], ypred_val_svm[reliable_val])\n",
    "prec_rel_val_svm = precision_score(y_val[reliable_val], ypred_val_svm[reliable_val])\n",
    "mcc_rel_val_svm = matthews_corrcoef(y_val[reliable_val], ypred_val_svm[reliable_val])\n",
    "\n",
    "acc_val_svm = accuracy_score(y_val, ypred_val_svm)\n",
    "prec_val_svm = precision_score(y_val, ypred_val_svm)\n",
    "mcc_val_svm = matthews_corrcoef(y_val, ypred_val_svm)\n",
    "\n",
    "tn_val_svm_rel, fp_val_svm_rel, fn_val_svm_rel, tp_val_svm_rel = confusion_matrix(y_val[reliable_val], \n",
    "                                                                                  ypred_val_svm[reliable_val]).ravel()\n",
    "tn_val_svm_unrel, fp_val_svm_unrel, fn_val_svm_unrel, tp_val_svm_unrel = confusion_matrix(y_val[unreliable_val], \n",
    "                                                                                  ypred_val_svm[unreliable_val]).ravel()\n",
    "spec_rel_val = tn_val_svm_rel/(tn_val_svm_rel+fp_val_svm_rel)\n",
    "spec_unrel_val = tn_val_svm_unrel/(tn_val_svm_unrel+fp_val_svm_unrel)\n",
    "\n",
    "\n",
    "sens_rel_val = tp_val_svm_rel/(tp_val_svm_rel+fn_val_svm_rel)\n",
    "sens_unrel_val = tp_val_svm_unrel/(tp_val_svm_unrel+fn_val_svm_unrel)\n",
    "sens_val = tp_val_svm/(tp_val_svm+fn_val_svm)"
   ]
  },
  {
   "cell_type": "code",
   "execution_count": 56,
   "metadata": {
    "pycharm": {
     "is_executing": false,
     "name": "#%%\n"
    }
   },
   "outputs": [
    {
     "name": "stdout",
     "output_type": "stream",
     "text": [
      "Number of elements in validation:946\n",
      "Number of reliable examples in validation:109\n",
      "Number of unreliable examples in validation:837\n"
     ]
    }
   ],
   "source": [
    "print('Number of elements in validation:' + str(X_val.shape[0]))\n",
    "print('Number of reliable examples in validation:' + str(len(reliable_val)))\n",
    "print('Number of unreliable examples in validation:' + str(len(unreliable_val)))"
   ]
  },
  {
   "cell_type": "code",
   "execution_count": null,
   "metadata": {
    "pycharm": {
     "name": "#%% md Performance on the validation\n"
    }
   },
   "outputs": [],
   "source": []
  },
  {
   "cell_type": "code",
   "execution_count": 65,
   "metadata": {
    "pycharm": {
     "is_executing": false,
     "name": "#%%\n"
    }
   },
   "outputs": [
    {
     "name": "stdout",
     "output_type": "stream",
     "text": [
      "Accuracy on validation:0.638477801268499\n",
      "Accuracy on reliable validation:0.7798165137614679\n",
      "Accuracy on unreliable validation:0.6200716845878136\n",
      "Precision on validation:0.8863157894736842\n",
      "Precision on reliable validation:0.9857142857142858\n",
      "Precision on unreliable validation:0.8691358024691358\n",
      "MCC on validation:0.31714437053131567\n",
      "MCC on reliable validation:0.5231497186249773\n",
      "MCC on unreliable validation:0.29031064798654\n",
      "Sensitivity on validation: 0.5937940761636107\n",
      "Sensitivity on reliable validation: 0.75\n",
      "Sensitivity on unreliable validation: 0.5705024311183144\n"
     ]
    }
   ],
   "source": [
    "print('Accuracy on validation:' + str(acc_val_svm))\n",
    "print('Accuracy on reliable validation:' + str(acc_rel_val_svm))\n",
    "print('Accuracy on unreliable validation:' + str(acc_unrel_val_svm))\n",
    "\n",
    "print('Precision on validation:' + str(prec_val_svm))\n",
    "print('Precision on reliable validation:' + str(prec_rel_val_svm))\n",
    "print('Precision on unreliable validation:' + str(prec_unrel_val_svm))\n",
    "\n",
    "\n",
    "print('MCC on validation:' + str(mcc_val_svm))\n",
    "print('MCC on reliable validation:' + str(mcc_rel_val_svm))\n",
    "print('MCC on unreliable validation:' + str(mcc_unrel_val_svm))\n",
    "\n",
    "print('Sensitivity on validation: '+str(sens_val))\n",
    "print('Sensitivity on reliable validation: '+str(sens_rel_val))\n",
    "print('Sensitivity on unreliable validation: '+str(sens_unrel_val))"
   ]
  },
  {
   "cell_type": "code",
   "execution_count": 66,
   "metadata": {
    "pycharm": {
     "is_executing": false,
     "name": "#%%\n"
    }
   },
   "outputs": [
    {
     "name": "stdout",
     "output_type": "stream",
     "text": [
      "Confidence intervals for MCC on Validation:0.28748899324665833-0.346799747815973\n"
     ]
    }
   ],
   "source": [
    "z = 1.96\n",
    "interval = z * np.sqrt(mcc_val_svm * (1 - mcc_val_svm) / X_val.shape[0])\n",
    "conf_inf = [mcc_val_svm - interval, mcc_val_svm + interval]\n",
    "print('Confidence intervals for MCC on Validation:' + str(conf_inf[0]) + '-' + str(conf_inf[1]))"
   ]
  },
  {
   "cell_type": "code",
   "execution_count": 67,
   "metadata": {
    "pycharm": {
     "is_executing": false,
     "name": "#%%\n"
    }
   },
   "outputs": [
    {
     "name": "stdout",
     "output_type": "stream",
     "text": [
      "Confidence intervals for Precision on Validation:0.866087702077014-0.9065438768703543\n"
     ]
    }
   ],
   "source": [
    "z = 1.96\n",
    "interval = z * np.sqrt(prec_val_svm * (1 - prec_val_svm) / X_val.shape[0])\n",
    "conf_inf = [prec_val_svm - interval, prec_val_svm + interval]\n",
    "print('Confidence intervals for Precision on Validation:' + str(conf_inf[0]) + '-' + str(conf_inf[1]))"
   ]
  },
  {
   "cell_type": "code",
   "execution_count": 70,
   "metadata": {
    "pycharm": {
     "is_executing": false,
     "name": "#%%\n"
    }
   },
   "outputs": [
    {
     "name": "stdout",
     "output_type": "stream",
     "text": [
      "Confidence intervals for Sensitivity on Validation:0.5624971590452021-0.6250909932820192\n"
     ]
    }
   ],
   "source": [
    "z = 1.96\n",
    "interval = z * np.sqrt(sens_val * (1 - sens_val) / X_val.shape[0])\n",
    "conf_inf = [sens_val - interval, sens_val + interval]\n",
    "print('Confidence intervals for Sensitivity on Validation:' + str(conf_inf[0]) + '-' + str(conf_inf[1]))"
   ]
  }
 ],
 "metadata": {
  "kernelspec": {
   "display_name": "Python 3",
   "language": "python",
   "name": "python3"
  },
  "language_info": {
   "codemirror_mode": {
    "name": "ipython",
    "version": 3
   },
   "file_extension": ".py",
   "mimetype": "text/x-python",
   "name": "python",
   "nbconvert_exporter": "python",
   "pygments_lexer": "ipython3",
   "version": "3.7.4"
  },
  "pycharm": {
   "stem_cell": {
    "cell_type": "raw",
    "metadata": {
     "collapsed": false
    },
    "source": []
   }
  }
 },
 "nbformat": 4,
 "nbformat_minor": 1
}
