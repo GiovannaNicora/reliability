{
 "cells": [
  {
   "cell_type": "markdown",
   "source": [
    "# Tumor/Normal classification from Single-Cell gene expression data"
   ],
   "metadata": {
    "collapsed": false
   }
  },
  {
   "cell_type": "code",
   "execution_count": 1,
   "outputs": [
    {
     "name": "stderr",
     "text": [
      "/Users/giovannanicora/.conda/envs/untitled/lib/python3.7/site-packages/anndata/_core/anndata.py:21: FutureWarning: pandas.core.index is deprecated and will be removed in a future version.  The public classes are available in the top-level namespace.\n",
      "  from pandas.core.index import RangeIndex\n"
     ],
     "output_type": "stream"
    }
   ],
   "source": [
    "import pandas as pd\n",
    "from collections import Counter\n",
    "import numpy as np\n",
    "import scanpy as sc\n",
    "\n",
    "\n",
    "from sklearn.model_selection import train_test_split, cross_validate\n",
    "from sklearn.svm import SVC\n",
    "from sklearn.metrics import *"
   ],
   "metadata": {
    "collapsed": false,
    "pycharm": {
     "name": "#%%\n",
     "is_executing": false
    }
   }
  },
  {
   "cell_type": "code",
   "execution_count": 2,
   "outputs": [],
   "source": [
    "path_anno = '/Users/giovannanicora/Documents/single-cell_hierarchies/GSM3587932_AML328-D0.anno.txt'\n",
    "anno = pd.read_csv(path_anno, sep='\\t')"
   ],
   "metadata": {
    "collapsed": false,
    "pycharm": {
     "name": "#%%\n",
     "is_executing": false
    }
   }
  },
  {
   "cell_type": "code",
   "execution_count": 3,
   "outputs": [
    {
     "name": "stdout",
     "text": [
      "Counter({'malignant': 693, 'normal': 401})\n",
      "Counter({'Prog-like': 281, 'Mono-like': 214, 'HSC-like': 143, 'T': 108, 'Mono': 79, 'NK': 75, 'cDC-like': 52, 'earlyEry': 44, 'CTL': 22, 'HSC': 19, 'cDC': 12, 'B': 12, 'lateEry': 9, 'Prog': 8, 'Plasma': 7, 'ProMono': 3, 'GMP-like': 2, 'pDC': 2, 'ProMono-like': 1, 'ProB': 1})\n"
     ],
     "output_type": "stream"
    }
   ],
   "source": [
    "anno.columns\n",
    "print(Counter(anno.PredictionRefined))\n",
    "print(Counter(anno.CellType))"
   ],
   "metadata": {
    "collapsed": false,
    "pycharm": {
     "name": "#%%\n",
     "is_executing": false
    }
   }
  },
  {
   "cell_type": "code",
   "execution_count": 4,
   "outputs": [],
   "source": [
    "# Myeloid cells\n",
    "mcells = ['HSC', 'Prog', 'GMP', 'Promono', 'Mono', 'cDC', 'pDC']\n",
    "\n",
    "# Selecting only myeloid cells (normal or tumor)\n",
    "ind_myeloid_malign = [i for i,x in enumerate(anno.CellType) if 'like' in x]\n",
    "ind_myeloid_benign = [i for i,x in enumerate(anno.CellType) if x in mcells]"
   ],
   "metadata": {
    "collapsed": false,
    "pycharm": {
     "name": "#%% \n",
     "is_executing": false
    }
   }
  },
  {
   "cell_type": "code",
   "execution_count": 5,
   "outputs": [
    {
     "data": {
      "text/plain": "120"
     },
     "metadata": {},
     "output_type": "execute_result",
     "execution_count": 5
    }
   ],
   "source": [
    "len(ind_myeloid_benign)"
   ],
   "metadata": {
    "collapsed": false,
    "pycharm": {
     "name": "#%%\n",
     "is_executing": false
    }
   }
  },
  {
   "cell_type": "code",
   "execution_count": 6,
   "outputs": [
    {
     "data": {
      "text/plain": "693"
     },
     "metadata": {},
     "output_type": "execute_result",
     "execution_count": 6
    }
   ],
   "source": [
    "len(ind_myeloid_malign)"
   ],
   "metadata": {
    "collapsed": false,
    "pycharm": {
     "name": "#%%\n",
     "is_executing": false
    }
   }
  },
  {
   "cell_type": "code",
   "execution_count": 7,
   "outputs": [],
   "source": [
    "df = pd.read_csv('/Users/giovannanicora/Documents/single-cell_hierarchies/AML328-D0.dem.txt',\n",
    "                 sep='\\t')"
   ],
   "metadata": {
    "collapsed": false,
    "pycharm": {
     "name": "#%%\n",
     "is_executing": false
    }
   }
  },
  {
   "cell_type": "code",
   "execution_count": 9,
   "outputs": [
    {
     "data": {
      "text/plain": "(27899, 1095)"
     },
     "metadata": {},
     "output_type": "execute_result",
     "execution_count": 9
    }
   ],
   "source": [
    "df.shape"
   ],
   "metadata": {
    "collapsed": false,
    "pycharm": {
     "name": "#%%\n",
     "is_executing": false
    }
   }
  },
  {
   "cell_type": "code",
   "execution_count": 8,
   "outputs": [
    {
     "data": {
      "text/plain": "(27899, 813)"
     },
     "metadata": {},
     "output_type": "execute_result",
     "execution_count": 8
    }
   ],
   "source": [
    "#df.head()\n",
    "gene_names = df['Gene']\n",
    "# Selecting only Myeloid\n",
    "barcodes_myeloid = list(anno.Cell[ind_myeloid_malign])+list(anno.Cell[ind_myeloid_benign])\n",
    "m_col = [i for i,x in enumerate(df.columns) if x in barcodes_myeloid]\n",
    "df = df.iloc[:, m_col]\n",
    "df.shape"
   ],
   "metadata": {
    "collapsed": false,
    "pycharm": {
     "name": "#%%\n",
     "is_executing": false
    }
   }
  },
  {
   "cell_type": "code",
   "execution_count": 9,
   "outputs": [],
   "source": [
    "barcodes = [x for x in df.columns if 'Gene' not in x]\n",
    "anndata = sc.AnnData(X=df.T.to_numpy(), obs=barcodes, var=gene_names.values)"
   ],
   "metadata": {
    "collapsed": false,
    "pycharm": {
     "name": "#%%\n",
     "is_executing": false
    }
   }
  },
  {
   "cell_type": "code",
   "execution_count": 10,
   "outputs": [],
   "source": [
    "anndata.var_names = gene_names.values"
   ],
   "metadata": {
    "collapsed": false,
    "pycharm": {
     "name": "#%%\n",
     "is_executing": false
    }
   }
  },
  {
   "cell_type": "code",
   "execution_count": 11,
   "outputs": [],
   "source": [
    "anndata.obs_names = barcodes"
   ],
   "metadata": {
    "collapsed": false,
    "pycharm": {
     "name": "#%%\n",
     "is_executing": false
    }
   }
  },
  {
   "cell_type": "code",
   "execution_count": 12,
   "outputs": [
    {
     "data": {
      "text/plain": "<Figure size 360x396 with 1 Axes>",
      "image/png": "[encoded data removed]"
     },
     "metadata": {
      "needs_background": "light"
     },
     "output_type": "display_data"
    }
   ],
   "source": [
    "anndata.raw = anndata\n",
    "sc.pl.highest_expr_genes(anndata, n_top=20, )"
   ],
   "metadata": {
    "collapsed": false,
    "pycharm": {
     "name": "#%%\n",
     "is_executing": false
    }
   }
  },
  {
   "cell_type": "code",
   "execution_count": 13,
   "outputs": [
    {
     "data": {
      "text/plain": "(813, 27899)"
     },
     "metadata": {},
     "output_type": "execute_result",
     "execution_count": 13
    }
   ],
   "source": [
    "anndata.shape"
   ],
   "metadata": {
    "collapsed": false,
    "pycharm": {
     "name": "#%%\n",
     "is_executing": false
    }
   }
  },
  {
   "cell_type": "code",
   "execution_count": 14,
   "outputs": [],
   "source": [
    "# Normalization and filtering\n",
    "sc.pp.filter_genes(anndata, min_cells=10)"
   ],
   "metadata": {
    "collapsed": false,
    "pycharm": {
     "name": "#%%\n",
     "is_executing": false
    }
   }
  },
  {
   "cell_type": "code",
   "execution_count": 15,
   "outputs": [
    {
     "data": {
      "text/plain": "(813, 10814)"
     },
     "metadata": {},
     "output_type": "execute_result",
     "execution_count": 15
    }
   ],
   "source": [
    "anndata.shape"
   ],
   "metadata": {
    "collapsed": false,
    "pycharm": {
     "name": "#%%\n",
     "is_executing": false
    }
   }
  },
  {
   "cell_type": "code",
   "execution_count": 16,
   "outputs": [],
   "source": [
    "sc.pp.normalize_total(anndata, target_sum=1e4)\n",
    "sc.pp.log1p(anndata)"
   ],
   "metadata": {
    "collapsed": false,
    "pycharm": {
     "name": "#%%\n",
     "is_executing": false
    }
   }
  },
  {
   "cell_type": "code",
   "execution_count": 17,
   "outputs": [
    {
     "data": {
      "text/plain": "7.8119555"
     },
     "metadata": {},
     "output_type": "execute_result",
     "execution_count": 17
    }
   ],
   "source": [
    "np.max(anndata.raw.X)\n",
    "np.max(anndata.X)"
   ],
   "metadata": {
    "collapsed": false,
    "pycharm": {
     "name": "#%%\n",
     "is_executing": false
    }
   }
  },
  {
   "cell_type": "code",
   "execution_count": 18,
   "outputs": [
    {
     "data": {
      "text/plain": "<Figure size 360x828 with 1 Axes>",
      "image/png": "[encoded data removed]"
     },
     "metadata": {
      "needs_background": "light"
     },
     "output_type": "display_data"
    }
   ],
   "source": [
    "sc.pl.highest_expr_genes(anndata, n_top=50, )"
   ],
   "metadata": {
    "collapsed": false,
    "pycharm": {
     "name": "#%%\n",
     "is_executing": false
    }
   }
  },
  {
   "cell_type": "markdown",
   "source": [
    "## Machine Learning"
   ],
   "metadata": {
    "collapsed": false
   }
  },
  {
   "cell_type": "code",
   "execution_count": 19,
   "outputs": [],
   "source": [
    "barcodes2class = dict(zip(anno.Cell,\n",
    "                          anno.PredictionRefined))\n",
    "y_true = [barcodes2class[x] for x in anndata.obs_names]\n",
    "X = anndata.X\n",
    "X_train = X\n",
    "classdict = dict(normal=0, malignant=1)\n",
    "y_true_num = [classdict[x] for x in y_true]\n",
    "y_train = np.array(y_true_num)"
   ],
   "metadata": {
    "collapsed": false,
    "pycharm": {
     "name": "#%%\n",
     "is_executing": false
    }
   }
  },
  {
   "cell_type": "markdown",
   "source": [
    "POP on training set"
   ],
   "metadata": {
    "collapsed": false
   }
  },
  {
   "cell_type": "code",
   "execution_count": 20,
   "outputs": [],
   "source": [
    "# POP on the training set\n",
    "from pop_implemetation import *\n",
    "\n",
    "(mind_train, maxd_train, isborder_train, attr2outerb_train, attr2innerb_train,\n",
    " attr2outerb_train_val, attr2innerb_train_val) = pop_instance_training(X_train, y_train)\n",
    "train_border_examples = X_train[np.argwhere(np.sum(np.abs(isborder_train), axis=1)!=0).ravel(),:]\n",
    "ytrain_border_examples = y_train[np.argwhere(np.sum(np.abs(isborder_train), axis=1)!=0).ravel()]"
   ],
   "metadata": {
    "collapsed": false,
    "pycharm": {
     "name": "#%%\n",
     "is_executing": false
    }
   }
  },
  {
   "cell_type": "code",
   "execution_count": 21,
   "outputs": [
    {
     "data": {
      "text/plain": "array([0., 0., 0., ..., 0., 0., 0.])"
     },
     "metadata": {},
     "output_type": "execute_result",
     "execution_count": 21
    }
   ],
   "source": [
    "mind_train"
   ],
   "metadata": {
    "collapsed": false,
    "pycharm": {
     "name": "#%%\n",
     "is_executing": false
    }
   }
  },
  {
   "cell_type": "code",
   "execution_count": 22,
   "outputs": [
    {
     "data": {
      "text/plain": "array([2.43459916, 2.99359727, 2.96523499, ..., 3.04072094, 2.99720597,\n       2.92429781])"
     },
     "metadata": {},
     "output_type": "execute_result",
     "execution_count": 22
    }
   ],
   "source": [
    "maxd_train"
   ],
   "metadata": {
    "collapsed": false,
    "pycharm": {
     "name": "#%%\n",
     "is_executing": false
    }
   }
  },
  {
   "cell_type": "code",
   "execution_count": 23,
   "outputs": [
    {
     "name": "stderr",
     "text": [
      "/Users/giovannanicora/.conda/envs/untitled/lib/python3.7/site-packages/sklearn/metrics/_classification.py:900: RuntimeWarning: invalid value encountered in double_scalars\n",
      "  mcc = cov_ytyp / np.sqrt(cov_ytyt * cov_ypyp)\n",
      "/Users/giovannanicora/.conda/envs/untitled/lib/python3.7/site-packages/sklearn/metrics/_classification.py:900: RuntimeWarning: invalid value encountered in double_scalars\n",
      "  mcc = cov_ytyp / np.sqrt(cov_ytyt * cov_ypyp)\n",
      "/Users/giovannanicora/.conda/envs/untitled/lib/python3.7/site-packages/sklearn/metrics/_classification.py:900: RuntimeWarning: invalid value encountered in double_scalars\n",
      "  mcc = cov_ytyp / np.sqrt(cov_ytyt * cov_ypyp)\n",
      "/Users/giovannanicora/.conda/envs/untitled/lib/python3.7/site-packages/sklearn/metrics/_classification.py:900: RuntimeWarning: invalid value encountered in double_scalars\n",
      "  mcc = cov_ytyp / np.sqrt(cov_ytyt * cov_ypyp)\n",
      "/Users/giovannanicora/.conda/envs/untitled/lib/python3.7/site-packages/sklearn/metrics/_classification.py:900: RuntimeWarning: invalid value encountered in double_scalars\n",
      "  mcc = cov_ytyp / np.sqrt(cov_ytyt * cov_ypyp)\n"
     ],
     "output_type": "stream"
    }
   ],
   "source": [
    "clf_svm = SVC()\n",
    "scores_svm = cross_validate(clf_svm, X_train, \n",
    "                        y_train, \n",
    "                        scoring={'accuracy_score':make_scorer(accuracy_score),\n",
    "                                 'precision_score':make_scorer(precision_score),\n",
    "                                 'prc':make_scorer(average_precision_score),\n",
    "                                 'mcc':make_scorer(matthews_corrcoef)})\n",
    "from sklearn.linear_model import LogisticRegression\n",
    "clf_lr =  LogisticRegression(penalty='l1', solver='liblinear') # Lasso\n",
    "scores_lr = cross_validate(clf_lr, X_train, \n",
    "                        y_train, \n",
    "                        scoring={'accuracy_score':make_scorer(accuracy_score),\n",
    "                                 'precision_score':make_scorer(precision_score),\n",
    "                                 'prc':make_scorer(average_precision_score),\n",
    "                                 'mcc':make_scorer(matthews_corrcoef)})\n",
    "\n",
    "                                    "
   ],
   "metadata": {
    "collapsed": false,
    "pycharm": {
     "name": "#%%\n",
     "is_executing": false
    }
   }
  },
  {
   "cell_type": "code",
   "execution_count": 24,
   "outputs": [
    {
     "data": {
      "text/plain": "LogisticRegression(C=1.0, class_weight=None, dual=False, fit_intercept=True,\n                   intercept_scaling=1, l1_ratio=None, max_iter=100,\n                   multi_class='auto', n_jobs=None, penalty='l1',\n                   random_state=None, solver='liblinear', tol=0.0001, verbose=0,\n                   warm_start=False)"
     },
     "metadata": {},
     "output_type": "execute_result",
     "execution_count": 24
    }
   ],
   "source": [
    "# Training on the entire training set\n",
    "clf_svm.fit(X_train, y_train)\n",
    "clf_lr.fit(X_train, y_train)"
   ],
   "metadata": {
    "collapsed": false,
    "pycharm": {
     "name": "#%%\n",
     "is_executing": false
    }
   }
  },
  {
   "cell_type": "code",
   "execution_count": 25,
   "outputs": [
    {
     "data": {
      "text/plain": "{'fit_time': array([6.32129407, 5.30457187, 5.32220602, 6.53241301, 6.61290216]),\n 'score_time': array([1.04474211, 1.06900096, 1.16953397, 1.50716424, 1.448246  ]),\n 'test_accuracy_score': array([0.85276074, 0.85276074, 0.85276074, 0.85185185, 0.85185185]),\n 'test_precision_score': array([0.85276074, 0.85276074, 0.85276074, 0.85185185, 0.85185185]),\n 'test_prc': array([0.85276074, 0.85276074, 0.85276074, 0.85185185, 0.85185185]),\n 'test_mcc': array([0., 0., 0., 0., 0.])}"
     },
     "metadata": {},
     "output_type": "execute_result",
     "execution_count": 25
    }
   ],
   "source": [
    "scores_svm"
   ],
   "metadata": {
    "collapsed": false,
    "pycharm": {
     "name": "#%%\n",
     "is_executing": false
    }
   }
  },
  {
   "cell_type": "code",
   "execution_count": 26,
   "outputs": [
    {
     "data": {
      "text/plain": "{'fit_time': array([0.11258912, 0.12265325, 0.12079835, 0.10996389, 0.18831396]),\n 'score_time': array([0.00680304, 0.00878692, 0.00614882, 0.00666189, 0.00661612]),\n 'test_accuracy_score': array([0.87116564, 0.88343558, 0.85889571, 0.90740741, 0.83950617]),\n 'test_precision_score': array([0.88815789, 0.90540541, 0.9084507 , 0.94244604, 0.88356164]),\n 'test_prc': array([0.88713927, 0.90351171, 0.90444423, 0.93785069, 0.88149361]),\n 'test_mcc': array([0.37133718, 0.46667465, 0.40868253, 0.62692225, 0.26963712])}"
     },
     "metadata": {},
     "output_type": "execute_result",
     "execution_count": 26
    }
   ],
   "source": [
    "scores_lr"
   ],
   "metadata": {
    "collapsed": false,
    "pycharm": {
     "name": "#%%\n",
     "is_executing": false
    }
   }
  },
  {
   "cell_type": "code",
   "execution_count": 27,
   "outputs": [
    {
     "data": {
      "text/plain": "[6.018677425384522,\n 1.247737455368042,\n 0.8523971824585322,\n 0.8523971824585322,\n 0.8523971824585322,\n 0.0]"
     },
     "metadata": {},
     "output_type": "execute_result",
     "execution_count": 27
    }
   ],
   "source": [
    "[np.mean(scores_svm[x]) for x in scores_svm.keys() ]"
   ],
   "metadata": {
    "collapsed": false,
    "pycharm": {
     "name": "#%%\n",
     "is_executing": false
    }
   }
  },
  {
   "cell_type": "code",
   "execution_count": 28,
   "outputs": [
    {
     "data": {
      "text/plain": "[0.13086371421813964,\n 0.007003355026245117,\n 0.8720821025524502,\n 0.9056043382737368,\n 0.9028879030003706,\n 0.4286507478252567]"
     },
     "metadata": {},
     "output_type": "execute_result",
     "execution_count": 28
    }
   ],
   "source": [
    "[np.mean(scores_lr[x]) for x in scores_lr.keys() ]"
   ],
   "metadata": {
    "collapsed": false,
    "pycharm": {
     "name": "#%%\n",
     "is_executing": false
    }
   }
  },
  {
   "cell_type": "markdown",
   "source": [
    "### Predicting on a Validation dataset\n",
    "We try to predict the class of new unseen examples\n",
    "\n",
    "*Obs*: first of all we need to correct for batch effect\n"
   ],
   "metadata": {
    "collapsed": false
   }
  }
 ],
 "metadata": {
  "kernelspec": {
   "display_name": "Python 3",
   "language": "python",
   "name": "python3"
  },
  "language_info": {
   "codemirror_mode": {
    "name": "ipython",
    "version": 2
   },
   "file_extension": ".py",
   "mimetype": "text/x-python",
   "name": "python",
   "nbconvert_exporter": "python",
   "pygments_lexer": "ipython2",
   "version": "2.7.6"
  },
  "pycharm": {
   "stem_cell": {
    "cell_type": "raw",
    "source": [],
    "metadata": {
     "collapsed": false
    }
   }
  }
 },
 "nbformat": 4,
 "nbformat_minor": 0
}