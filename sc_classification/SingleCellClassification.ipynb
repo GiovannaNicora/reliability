{
 "cells": [
  {
   "cell_type": "markdown",
   "metadata": {
    "collapsed": true,
    "pycharm": {
     "name": "#%% md\n"
    }
   },
   "source": [
    "# Tumor/Normal classification from Single-Cell gene expression data"
   ]
  },
  {
   "cell_type": "code",
   "execution_count": 1,
   "outputs": [
    {
     "name": "stderr",
     "text": [
      "/Users/giovannanicora/.conda/envs/untitled/lib/python3.7/site-packages/anndata/_core/anndata.py:21: FutureWarning: pandas.core.index is deprecated and will be removed in a future version.  The public classes are available in the top-level namespace.\n",
      "  from pandas.core.index import RangeIndex\n"
     ],
     "output_type": "stream"
    }
   ],
   "source": [
    "import pandas as pd\n",
    "from collections import Counter\n",
    "import numpy as np\n",
    "import scanpy as sc\n",
    "\n",
    "\n",
    "from sklearn.model_selection import train_test_split, cross_validate\n",
    "from sklearn.svm import SVC\n",
    "from sklearn.metrics import *"
   ],
   "metadata": {
    "collapsed": false,
    "pycharm": {
     "name": "#%%\n",
     "is_executing": false
    }
   }
  },
  {
   "cell_type": "code",
   "execution_count": 2,
   "outputs": [],
   "source": [
    "path_anno = '/Users/giovannanicora/Documents/single-cell_hierarchies/GSM3587941_AML329-D0.anno.txt'\n",
    "anno = pd.read_csv(path_anno, sep='\\t')"
   ],
   "metadata": {
    "collapsed": false,
    "pycharm": {
     "name": "#%%\n",
     "is_executing": false
    }
   }
  },
  {
   "cell_type": "code",
   "execution_count": 3,
   "outputs": [
    {
     "name": "stdout",
     "text": [
      "Counter({'normal': 272, 'malignant': 253})\n",
      "Counter({'GMP-like': 134, 'T': 80, 'Prog-like': 67, 'lateEry': 45, 'Mono': 33, 'NK': 29, 'cDC-like': 25, 'B': 16, 'GMP': 13, 'Prog': 13, 'cDC': 12, 'Mono-like': 11, 'HSC-like': 9, 'CTL': 8, 'ProMono': 8, 'ProMono-like': 7, 'earlyEry': 7, 'Plasma': 4, 'HSC': 2, 'pDC': 2})\n"
     ],
     "output_type": "stream"
    }
   ],
   "source": [
    "anno.columns\n",
    "print(Counter(anno.PredictionRefined))\n",
    "print(Counter(anno.CellType))"
   ],
   "metadata": {
    "collapsed": false,
    "pycharm": {
     "name": "#%%\n",
     "is_executing": false
    }
   }
  },
  {
   "cell_type": "code",
   "execution_count": 4,
   "outputs": [],
   "source": [
    "# Myeloid cells\n",
    "mcells = ['HSC', 'Prog', 'GMP', 'Promono', 'Mono', 'cDC', 'pDC']\n",
    "\n",
    "# Selecting only myeloid cells (normal or tumor)\n",
    "ind_myeloid_malign = [i for i,x in enumerate(anno.CellType) if 'like' in x]\n",
    "ind_myeloid_benign = [i for i,x in enumerate(anno.CellType) if x in mcells]"
   ],
   "metadata": {
    "collapsed": false,
    "pycharm": {
     "name": "#%% \n",
     "is_executing": false
    }
   }
  },
  {
   "cell_type": "code",
   "execution_count": 5,
   "outputs": [
    {
     "data": {
      "text/plain": "75"
     },
     "metadata": {},
     "output_type": "execute_result",
     "execution_count": 5
    }
   ],
   "source": [
    "len(ind_myeloid_benign)"
   ],
   "metadata": {
    "collapsed": false,
    "pycharm": {
     "name": "#%%\n",
     "is_executing": false
    }
   }
  },
  {
   "cell_type": "code",
   "execution_count": 6,
   "outputs": [
    {
     "data": {
      "text/plain": "253"
     },
     "metadata": {},
     "output_type": "execute_result",
     "execution_count": 6
    }
   ],
   "source": [
    "len(ind_myeloid_malign)"
   ],
   "metadata": {
    "collapsed": false,
    "pycharm": {
     "name": "#%%\n",
     "is_executing": false
    }
   }
  },
  {
   "cell_type": "code",
   "execution_count": 45,
   "outputs": [],
   "source": [
    "df = pd.read_csv('/Users/giovannanicora/Documents/single-cell_hierarchies/AML329-D0.dem.txt',\n",
    "                 sep='\\t')"
   ],
   "metadata": {
    "collapsed": false,
    "pycharm": {
     "name": "#%%\n",
     "is_executing": false
    }
   }
  },
  {
   "cell_type": "code",
   "execution_count": 8,
   "outputs": [
    {
     "data": {
      "text/plain": "(27899, 526)"
     },
     "metadata": {},
     "output_type": "execute_result",
     "execution_count": 8
    }
   ],
   "source": [
    "df.shape"
   ],
   "metadata": {
    "collapsed": false,
    "pycharm": {
     "name": "#%%\n",
     "is_executing": false
    }
   }
  },
  {
   "cell_type": "code",
   "execution_count": 46,
   "outputs": [
    {
     "data": {
      "text/plain": "(27899, 328)"
     },
     "metadata": {},
     "output_type": "execute_result",
     "execution_count": 46
    }
   ],
   "source": [
    "#df.head()\n",
    "gene_names = df['Gene']\n",
    "# Selecting only Myeloid\n",
    "barcodes_myeloid = list(anno.Cell[ind_myeloid_malign])+list(anno.Cell[ind_myeloid_benign])\n",
    "m_col = [i for i,x in enumerate(df.columns) if x in barcodes_myeloid]\n",
    "df = df.iloc[:, m_col]\n",
    "df.shape"
   ],
   "metadata": {
    "collapsed": false,
    "pycharm": {
     "name": "#%%\n",
     "is_executing": false
    }
   }
  },
  {
   "cell_type": "code",
   "execution_count": 47,
   "outputs": [],
   "source": [
    "barcodes = [x for x in df.columns if 'Gene' not in x]\n",
    "anndata = sc.AnnData(X=df.T.to_numpy(), obs=barcodes, var=gene_names.values)"
   ],
   "metadata": {
    "collapsed": false,
    "pycharm": {
     "name": "#%%\n",
     "is_executing": false
    }
   }
  },
  {
   "cell_type": "code",
   "execution_count": 48,
   "outputs": [],
   "source": [
    "anndata.var_names = gene_names.values"
   ],
   "metadata": {
    "collapsed": false,
    "pycharm": {
     "name": "#%%\n",
     "is_executing": false
    }
   }
  },
  {
   "cell_type": "code",
   "execution_count": 49,
   "outputs": [],
   "source": [
    "anndata.obs_names = barcodes"
   ],
   "metadata": {
    "collapsed": false,
    "pycharm": {
     "name": "#%%\n",
     "is_executing": false
    }
   }
  },
  {
   "cell_type": "code",
   "execution_count": 38,
   "outputs": [
    {
     "data": {
      "text/plain": "Index(['AML556-D0_AAAAACATACCG', 'AML556-D0_AAAAAGGGATAN',\n       'AML556-D0_AAAACCGAGGAT', 'AML556-D0_AAAAGATGAGCG',\n       'AML556-D0_AAAAGCGTGGTG', 'AML556-D0_AAAAGTAGCATA',\n       'AML556-D0_AAAATCGGAATA', 'AML556-D0_AAAATGCGGGAC',\n       'AML556-D0_AAACATGCGAGN', 'AML556-D0_AAACATGCTTTN',\n       ...\n       'AML556-D0_TCCCTCACGAAT', 'AML556-D0_TCGTGTTCACCT',\n       'AML556-D0_TGAGGAAAGTCT', 'AML556-D0_TGTTTTCTGCGN',\n       'AML556-D0_TTCAGTAGAATG', 'AML556-D0_TTCCAAATGCTG',\n       'AML556-D0_TTCTAAACATTN', 'AML556-D0_TTGGTGAGATCT',\n       'AML556-D0_TTTGCGGGCCAC', 'AML556-D0_TTTTTACCTGGN'],\n      dtype='object', length=2328)"
     },
     "metadata": {},
     "output_type": "execute_result",
     "execution_count": 38
    }
   ],
   "source": [
    "# From File DA COMMENTARE\n",
    "anndata = sc.read_text('/Users/giovannanicora/Documents/single-cell_hierarchies/AML329-D0.dem.txt',delimiter='\\t')\n",
    "# Cells in rows and Genes in column\n",
    "anndata = anndata.T \n",
    "anndata.shape\n",
    "anndata.var_names\n",
    "anndata.obs_names"
   ],
   "metadata": {
    "collapsed": false,
    "pycharm": {
     "name": "#%%\n",
     "is_executing": false
    }
   }
  },
  {
   "cell_type": "code",
   "execution_count": 50,
   "outputs": [
    {
     "data": {
      "text/plain": "<Figure size 360x396 with 1 Axes>",
      "image/png": "[encoded data removed]"
     },
     "metadata": {
      "needs_background": "light"
     },
     "output_type": "display_data"
    }
   ],
   "source": [
    "anndata.raw = anndata\n",
    "sc.pl.highest_expr_genes(anndata, n_top=20, )"
   ],
   "metadata": {
    "collapsed": false,
    "pycharm": {
     "name": "#%%\n",
     "is_executing": false
    }
   }
  },
  {
   "cell_type": "code",
   "execution_count": 51,
   "outputs": [
    {
     "data": {
      "text/plain": "(328, 27899)"
     },
     "metadata": {},
     "output_type": "execute_result",
     "execution_count": 51
    }
   ],
   "source": [
    "anndata.shape"
   ],
   "metadata": {
    "collapsed": false,
    "pycharm": {
     "name": "#%%\n",
     "is_executing": false
    }
   }
  },
  {
   "cell_type": "code",
   "execution_count": 52,
   "outputs": [],
   "source": [
    "# Normalization and filtering\n",
    "sc.pp.filter_genes(anndata, min_cells=200)"
   ],
   "metadata": {
    "collapsed": false,
    "pycharm": {
     "name": "#%%\n",
     "is_executing": false
    }
   }
  },
  {
   "cell_type": "code",
   "execution_count": 34,
   "outputs": [
    {
     "data": {
      "text/plain": "(328, 4)"
     },
     "metadata": {},
     "output_type": "execute_result",
     "execution_count": 34
    }
   ],
   "source": [
    "anndata.shape"
   ],
   "metadata": {
    "collapsed": false,
    "pycharm": {
     "name": "#%%\n",
     "is_executing": false
    }
   }
  },
  {
   "cell_type": "code",
   "execution_count": 53,
   "outputs": [],
   "source": [
    "sc.pp.normalize_total(anndata, target_sum=1e4)\n",
    "sc.pp.log1p(anndata)"
   ],
   "metadata": {
    "collapsed": false,
    "pycharm": {
     "name": "#%%\n",
     "is_executing": false
    }
   }
  },
  {
   "cell_type": "code",
   "execution_count": 54,
   "outputs": [
    {
     "data": {
      "text/plain": "8.06658"
     },
     "metadata": {},
     "output_type": "execute_result",
     "execution_count": 54
    }
   ],
   "source": [
    "np.max(anndata.raw.X)\n",
    "np.max(anndata.X)"
   ],
   "metadata": {
    "collapsed": false,
    "pycharm": {
     "name": "#%%\n",
     "is_executing": false
    }
   }
  },
  {
   "cell_type": "code",
   "execution_count": 55,
   "outputs": [
    {
     "data": {
      "text/plain": "<Figure size 360x828 with 1 Axes>",
      "image/png": "[encoded data removed]"
     },
     "metadata": {
      "needs_background": "light"
     },
     "output_type": "display_data"
    }
   ],
   "source": [
    "sc.pl.highest_expr_genes(anndata, n_top=50, )"
   ],
   "metadata": {
    "collapsed": false,
    "pycharm": {
     "name": "#%%\n",
     "is_executing": false
    }
   }
  },
  {
   "cell_type": "markdown",
   "source": [
    "## Machine Learning"
   ],
   "metadata": {
    "collapsed": false,
    "pycharm": {
     "name": "#%% md\n"
    }
   }
  },
  {
   "cell_type": "code",
   "execution_count": 56,
   "outputs": [],
   "source": [
    "barcodes2class = dict(zip(anno.Cell,\n",
    "                          anno.PredictionRefined))\n",
    "y_true = [barcodes2class[x] for x in anndata.obs_names]\n",
    "X = anndata.X\n",
    "X_train = X\n",
    "classdict = dict(normal=0, malignant=1)\n",
    "y_true_num = [classdict[x] for x in y_true]\n",
    "y_train = np.array(y_true_num)"
   ],
   "metadata": {
    "collapsed": false,
    "pycharm": {
     "name": "#%%\n",
     "is_executing": false
    }
   }
  },
  {
   "cell_type": "markdown",
   "source": [
    "POP on training set"
   ],
   "metadata": {
    "collapsed": false,
    "pycharm": {
     "name": "#%% md\n"
    }
   }
  },
  {
   "cell_type": "code",
   "execution_count": 57,
   "outputs": [],
   "source": [
    "# POP on the training set\n",
    "from pop_implemetation import *\n",
    "\n",
    "(mind_train, maxd_train, isborder_train, attr2outerb_train, attr2innerb_train,\n",
    " attr2outerb_train_val, attr2innerb_train_val) = pop_instance_training(X_train, y_train)\n",
    "train_border_examples = X_train[np.argwhere(np.sum(np.abs(isborder_train), axis=1)!=0).ravel(),:]\n",
    "ytrain_border_examples = y_train[np.argwhere(np.sum(np.abs(isborder_train), axis=1)!=0).ravel()]"
   ],
   "metadata": {
    "collapsed": false,
    "pycharm": {
     "name": "#%%\n",
     "is_executing": false
    }
   }
  },
  {
   "cell_type": "code",
   "execution_count": 58,
   "outputs": [
    {
     "data": {
      "text/plain": "array([6.11584234, 4.34564972, 4.5389514 , 5.50460386, 5.20398188,\n       4.48115063, 4.00478363, 4.28789854, 4.60772276, 4.94587564,\n       4.50740433, 4.87259579, 3.81524944, 5.78213167, 4.65849876,\n       4.28825283, 4.77421093, 5.09670019, 4.31555605, 4.80275726,\n       5.05396318, 4.44720793, 4.70294571, 3.82522368, 4.60526896,\n       4.88863039, 4.62079477, 4.46721888, 4.28084135, 4.14142084,\n       4.28730822, 4.50740385, 4.90032434, 3.97698689, 3.82045698,\n       4.93599367, 4.31264591, 4.92715454, 4.33413172, 4.28789854,\n       4.64426231, 4.28084135, 4.10596848, 4.48010874, 4.71290541,\n       4.20804787, 4.29203892, 6.17586708, 4.47684288, 4.58778238,\n       4.48721361, 4.87259579, 4.5695219 , 5.54169703, 6.92796707,\n       4.13125086, 5.59477329, 5.12672281, 4.57060242, 4.81684065,\n       5.61842299, 3.97570324, 4.81027699, 4.78253698, 5.00985765,\n       4.17386246, 4.51631451, 4.48692417, 5.83514118, 4.05916643,\n       4.28789854, 5.12751579, 4.89074612, 5.60708332, 4.19723463,\n       4.70233679, 5.01232529, 3.86188555, 4.05916643, 4.2852459 ,\n       5.27644062, 4.47971249, 7.44761753, 5.01232529, 4.23182297,\n       4.50740433, 5.29012585, 4.84161091, 6.29534864, 5.52545309,\n       5.52545309, 5.45699978, 4.74678421, 5.98403597, 5.19591475,\n       5.76256752, 4.5389514 , 5.45699978, 4.87974453, 3.45878792,\n       4.88283491, 4.49200392, 4.44554138, 4.65849876, 4.32581139,\n       4.53373051, 4.7811656 , 4.36810732, 4.55744553, 5.08140421,\n       5.41093683, 4.77178812, 4.26284409, 4.49794674, 5.38628817,\n       4.80335665, 4.48721361, 4.31671262, 3.62858582, 4.29679251,\n       4.89372921, 4.75119734, 5.28893661, 5.66922092, 5.39110899,\n       5.75490427, 4.00407887, 5.06302547, 4.06665421, 5.05396318,\n       5.29726648, 5.13149071, 4.46721888, 4.86991882, 5.08299589,\n       3.89338899, 5.09670019, 3.79217124, 4.91067171, 5.42516804,\n       5.03671646, 4.70770216, 5.39093637, 5.39236593, 5.08838558,\n       3.77606416, 4.25756645, 5.31834412, 5.19324017, 5.49239445,\n       3.78653789, 5.14502478, 5.43621445, 5.06382656, 5.29609489,\n       4.19233179, 5.2806797 , 4.27958679, 4.82559299, 4.8778944 ,\n       4.20508671, 5.27582884, 5.24389172, 5.30843544, 5.41854572,\n       5.43507719, 4.89253521, 4.54969692, 4.3051672 , 5.2547636 ,\n       5.51892185, 4.65942335, 5.24252319, 4.69157457, 4.7820034 ,\n       5.1471467 , 5.32431126, 4.83628178, 5.4650774 , 4.83983135,\n       4.50563192, 5.09411287, 4.98310995, 4.94813299, 5.71596622,\n       4.76840687, 5.09446192, 5.03774023, 5.46558666, 4.91768074,\n       5.31218958, 5.28510332, 5.45343113, 5.33627844, 5.76266527,\n       4.81313276, 5.2776823 , 4.54354239, 5.52812433, 4.94661093,\n       4.45979834, 6.36725426, 4.72027731, 5.61057186, 4.84762049,\n       4.55744553, 3.87473249, 4.27978706, 4.43642569, 4.44804192,\n       5.19591475, 4.72501183, 4.89372921, 4.55601025, 4.3425231 ,\n       4.10338116, 3.89811015, 4.10108757, 5.57842112, 4.38071918,\n       4.39444923, 4.43752575, 3.90953708, 6.99568272, 4.19233179,\n       4.52530622, 4.32728577, 4.85928345, 4.12674093, 4.13376522,\n       4.45045662, 3.98386121, 5.6284399 , 6.32972097, 5.02163553,\n       5.45962524, 4.28612947, 5.41309595, 4.40010929, 5.27389526,\n       4.30156898, 4.05081081, 4.88283491, 5.20488214, 4.54228783,\n       4.288095  , 4.68699789, 4.40717363])"
     },
     "metadata": {},
     "output_type": "execute_result",
     "execution_count": 58
    }
   ],
   "source": [
    "mind_train\n",
    "maxd_train"
   ],
   "metadata": {
    "collapsed": false,
    "pycharm": {
     "name": "#%%\n",
     "is_executing": false
    }
   }
  },
  {
   "cell_type": "code",
   "execution_count": 60,
   "outputs": [],
   "source": [
    "clf_svm = SVC()\n",
    "scores_svm = cross_validate(clf_svm, X_train, \n",
    "                        y_train, \n",
    "                        scoring={'accuracy_score':make_scorer(accuracy_score),\n",
    "                                 'precision_score':make_scorer(precision_score),\n",
    "                                 'prc':make_scorer(average_precision_score),\n",
    "                                 'mcc':make_scorer(matthews_corrcoef)})\n",
    "from sklearn.linear_model import LogisticRegression\n",
    "clf_lr =  LogisticRegression(penalty='l1', solver='liblinear') # Lasso\n",
    "scores_lr = cross_validate(clf_lr, X_train, \n",
    "                        y_train, \n",
    "                        scoring={'accuracy_score':make_scorer(accuracy_score),\n",
    "                                 'precision_score':make_scorer(precision_score),\n",
    "                                 'prc':make_scorer(average_precision_score),\n",
    "                                 'mcc':make_scorer(matthews_corrcoef)})\n",
    "\n",
    "                                    "
   ],
   "metadata": {
    "collapsed": false,
    "pycharm": {
     "name": "#%%\n",
     "is_executing": false
    }
   }
  },
  {
   "cell_type": "code",
   "execution_count": 61,
   "outputs": [
    {
     "data": {
      "text/plain": "LogisticRegression(C=1.0, class_weight=None, dual=False, fit_intercept=True,\n                   intercept_scaling=1, l1_ratio=None, max_iter=100,\n                   multi_class='auto', n_jobs=None, penalty='l1',\n                   random_state=None, solver='liblinear', tol=0.0001, verbose=0,\n                   warm_start=False)"
     },
     "metadata": {},
     "output_type": "execute_result",
     "execution_count": 61
    }
   ],
   "source": [
    "# Training on the entire training set\n",
    "clf_svm.fit(X_train, y_train)\n",
    "clf_lr.fit(X_train, y_train)"
   ],
   "metadata": {
    "collapsed": false,
    "pycharm": {
     "name": "#%%\n",
     "is_executing": false
    }
   }
  },
  {
   "cell_type": "code",
   "execution_count": 62,
   "outputs": [
    {
     "data": {
      "text/plain": "{'fit_time': array([0.02625775, 0.01929498, 0.01761985, 0.01382494, 0.01474977]),\n 'score_time': array([0.00651717, 0.00921583, 0.01131225, 0.00443506, 0.00461602]),\n 'test_accuracy_score': array([0.86363636, 0.75757576, 0.8030303 , 0.89230769, 0.76923077]),\n 'test_precision_score': array([0.875     , 0.80701754, 0.80645161, 0.87719298, 0.84313725]),\n 'test_prc': array([0.8709893 , 0.80365575, 0.80579035, 0.87719298, 0.83279035]),\n 'test_mcc': array([0.57752005, 0.20592084, 0.31682725, 0.68398557, 0.33480069])}"
     },
     "metadata": {},
     "output_type": "execute_result",
     "execution_count": 62
    }
   ],
   "source": [
    "scores_svm"
   ],
   "metadata": {
    "collapsed": false,
    "pycharm": {
     "name": "#%%\n",
     "is_executing": false
    }
   }
  },
  {
   "cell_type": "code",
   "execution_count": 63,
   "outputs": [
    {
     "data": {
      "text/plain": "{'fit_time': array([0.02374887, 0.03087902, 0.04360509, 0.03957486, 0.03892088]),\n 'score_time': array([0.00216317, 0.0023098 , 0.00203395, 0.00214624, 0.00697994]),\n 'test_accuracy_score': array([0.77272727, 0.71212121, 0.75757576, 0.75384615, 0.70769231]),\n 'test_precision_score': array([0.86      , 0.80769231, 0.81818182, 0.84      , 0.82978723]),\n 'test_prc': array([0.84631016, 0.80152201, 0.81283422, 0.82867692, 0.81646481]),\n 'test_mcc': array([0.36814319, 0.16079955, 0.24253563, 0.30666667, 0.2322501 ])}"
     },
     "metadata": {},
     "output_type": "execute_result",
     "execution_count": 63
    }
   ],
   "source": [
    "scores_lr"
   ],
   "metadata": {
    "collapsed": false,
    "pycharm": {
     "name": "#%%\n",
     "is_executing": false
    }
   }
  },
  {
   "cell_type": "code",
   "execution_count": 64,
   "outputs": [
    {
     "data": {
      "text/plain": "[0.018349456787109374,\n 0.007219266891479492,\n 0.8171561771561772,\n 0.8417598788241951,\n 0.8380837476160556,\n 0.42381088155727065]"
     },
     "metadata": {},
     "output_type": "execute_result",
     "execution_count": 64
    }
   ],
   "source": [
    "[np.mean(scores_svm[x]) for x in scores_svm.keys() ]"
   ],
   "metadata": {
    "collapsed": false,
    "pycharm": {
     "name": "#%%\n",
     "is_executing": false
    }
   }
  },
  {
   "cell_type": "code",
   "execution_count": 65,
   "outputs": [
    {
     "data": {
      "text/plain": "[0.03534574508666992,\n 0.0031266212463378906,\n 0.7407925407925408,\n 0.8311322719833358,\n 0.8211616254583964,\n 0.2620790285853663]"
     },
     "metadata": {},
     "output_type": "execute_result",
     "execution_count": 65
    }
   ],
   "source": [
    "[np.mean(scores_lr[x]) for x in scores_lr.keys() ]"
   ],
   "metadata": {
    "collapsed": false,
    "pycharm": {
     "name": "#%%\n",
     "is_executing": false
    }
   }
  },
  {
   "cell_type": "markdown",
   "source": [
    "### Predicting on a Validation dataset\n",
    "We try to predict the class of new unseen examples\n",
    "\n",
    "*Obs*: first of all we need to correct for batch effect\n"
   ],
   "metadata": {
    "collapsed": false,
    "pycharm": {
     "name": "#%% md\n"
    }
   }
  }
 ],
 "metadata": {
  "kernelspec": {
   "display_name": "Python 3",
   "language": "python",
   "name": "python3"
  },
  "language_info": {
   "codemirror_mode": {
    "name": "ipython",
    "version": 2
   },
   "file_extension": ".py",
   "mimetype": "text/x-python",
   "name": "python",
   "nbconvert_exporter": "python",
   "pygments_lexer": "ipython2",
   "version": "2.7.6"
  },
  "pycharm": {
   "stem_cell": {
    "cell_type": "raw",
    "source": [],
    "metadata": {
     "collapsed": false
    }
   }
  }
 },
 "nbformat": 4,
 "nbformat_minor": 0
}