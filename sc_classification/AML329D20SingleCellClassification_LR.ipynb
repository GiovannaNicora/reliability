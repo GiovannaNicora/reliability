{
 "cells": [
  {
   "cell_type": "markdown",
   "metadata": {},
   "source": [
    "# Tumor/Normal classification from Single-Cell gene expression data"
   ]
  },
  {
   "cell_type": "code",
   "execution_count": 1,
   "metadata": {
    "pycharm": {
     "is_executing": false,
     "name": "#%%\n"
    }
   },
   "outputs": [
    {
     "name": "stderr",
     "text": [
      "/Users/giovannanicora/.conda/envs/untitled/lib/python3.7/site-packages/anndata/_core/anndata.py:21: FutureWarning: pandas.core.index is deprecated and will be removed in a future version.  The public classes are available in the top-level namespace.\n",
      "  from pandas.core.index import RangeIndex\n"
     ],
     "output_type": "stream"
    }
   ],
   "source": [
    "import pandas as pd\n",
    "from collections import Counter\n",
    "import numpy as np\n",
    "import scanpy as sc\n",
    "\n",
    "from matplotlib import pyplot\n",
    "\n",
    "from sklearn.model_selection import train_test_split, cross_validate\n",
    "from sklearn.linear_model import LogisticRegression\n",
    "from sklearn.metrics import *"
   ]
  },
  {
   "cell_type": "code",
   "execution_count": 2,
   "metadata": {
    "pycharm": {
     "is_executing": false,
     "name": "#%%\n"
    }
   },
   "outputs": [],
   "source": [
    "dir_anno = '/Users/giovannanicora/Documents/single-cell_hierarchies/per_amia/GSE116256_RAW/anno_files/'\n",
    "path_anno = dir_anno+'GSM3587943_AML329-D20.anno.txt.gz'\n",
    "anno = pd.read_csv(path_anno, sep='\\t')"
   ]
  },
  {
   "cell_type": "code",
   "execution_count": 3,
   "metadata": {
    "pycharm": {
     "is_executing": false,
     "name": "#%%\n"
    }
   },
   "outputs": [
    {
     "name": "stdout",
     "text": [
      "Counter({'normal': 694, 'malignant': 259})\n",
      "Counter({'Mono': 336, 'Prog-like': 108, 'T': 86, 'cDC': 81, 'cDC-like': 74, 'ProMono': 51, 'GMP-like': 39, 'CTL': 33, 'NK': 30, 'B': 25, 'Prog': 19, 'Mono-like': 17, 'GMP': 12, 'ProMono-like': 11, 'HSC-like': 10, 'lateEry': 9, 'HSC': 6, 'earlyEry': 4, 'Plasma': 1, 'pDC': 1})\n"
     ],
     "output_type": "stream"
    }
   ],
   "source": [
    "anno.columns\n",
    "print(Counter(anno.PredictionRefined))\n",
    "print(Counter(anno.CellType))"
   ]
  },
  {
   "cell_type": "code",
   "execution_count": 4,
   "metadata": {
    "pycharm": {
     "is_executing": false,
     "name": "#%% \n"
    }
   },
   "outputs": [],
   "source": [
    "# Myeloid cells\n",
    "mcells = ['HSC', 'Prog', 'GMP', 'Promono', 'Mono', 'cDC', 'pDC']\n",
    "\n",
    "# Selecting only myeloid cells (normal or tumor)\n",
    "ind_myeloid_malign = [i for i,x in enumerate(anno.CellType) if 'like' in x]\n",
    "ind_myeloid_benign = [i for i,x in enumerate(anno.CellType) if x in mcells]"
   ]
  },
  {
   "cell_type": "code",
   "execution_count": 5,
   "metadata": {
    "pycharm": {
     "is_executing": false,
     "name": "#%%\n"
    }
   },
   "outputs": [
    {
     "data": {
      "text/plain": "455"
     },
     "metadata": {},
     "output_type": "execute_result",
     "execution_count": 5
    }
   ],
   "source": [
    "len(ind_myeloid_benign)"
   ]
  },
  {
   "cell_type": "code",
   "execution_count": 6,
   "metadata": {
    "pycharm": {
     "is_executing": false,
     "name": "#%%\n"
    }
   },
   "outputs": [
    {
     "data": {
      "text/plain": "259"
     },
     "metadata": {},
     "output_type": "execute_result",
     "execution_count": 6
    }
   ],
   "source": [
    "len(ind_myeloid_malign)"
   ]
  },
  {
   "cell_type": "code",
   "execution_count": 7,
   "metadata": {
    "pycharm": {
     "is_executing": false,
     "name": "#%%\n"
    }
   },
   "outputs": [],
   "source": [
    "ge_files = '/Users/giovannanicora/Documents/single-cell_hierarchies/per_amia/GSE116256_RAW/ge_files/'\n",
    "df = pd.read_csv(ge_files+'GSM3587942_AML329-D20.dem.txt.gz',\n",
    "                 sep='\\t')"
   ]
  },
  {
   "cell_type": "code",
   "execution_count": 8,
   "metadata": {
    "pycharm": {
     "is_executing": false,
     "name": "#%%\n"
    }
   },
   "outputs": [
    {
     "data": {
      "text/plain": "(27899, 954)"
     },
     "metadata": {},
     "output_type": "execute_result",
     "execution_count": 8
    }
   ],
   "source": [
    "df.shape"
   ]
  },
  {
   "cell_type": "code",
   "execution_count": 9,
   "metadata": {
    "pycharm": {
     "is_executing": false,
     "name": "#%%\n"
    }
   },
   "outputs": [
    {
     "data": {
      "text/plain": "(27899, 714)"
     },
     "metadata": {},
     "output_type": "execute_result",
     "execution_count": 9
    }
   ],
   "source": [
    "#df.head()\n",
    "gene_names = df['Gene']\n",
    "# Selecting only Myeloid\n",
    "barcodes_myeloid = list(anno.Cell[ind_myeloid_malign])+list(anno.Cell[ind_myeloid_benign])\n",
    "m_col = [i for i,x in enumerate(df.columns) if x in barcodes_myeloid]\n",
    "df = df.iloc[:, m_col]\n",
    "df.shape"
   ]
  },
  {
   "cell_type": "code",
   "execution_count": 10,
   "metadata": {
    "pycharm": {
     "is_executing": false,
     "name": "#%%\n"
    }
   },
   "outputs": [],
   "source": [
    "barcodes = [x for x in df.columns if 'Gene' not in x]\n",
    "anndata = sc.AnnData(X=df.T.to_numpy(), obs=barcodes, var=gene_names.values)"
   ]
  },
  {
   "cell_type": "code",
   "execution_count": 11,
   "metadata": {
    "pycharm": {
     "is_executing": false,
     "name": "#%%\n"
    }
   },
   "outputs": [],
   "source": [
    "anndata.var_names = gene_names.values"
   ]
  },
  {
   "cell_type": "code",
   "execution_count": 12,
   "metadata": {
    "pycharm": {
     "is_executing": false,
     "name": "#%%\n"
    }
   },
   "outputs": [],
   "source": [
    "anndata.obs_names = barcodes"
   ]
  },
  {
   "cell_type": "code",
   "execution_count": 13,
   "metadata": {
    "pycharm": {
     "is_executing": false,
     "name": "#%%\n"
    }
   },
   "outputs": [
    {
     "data": {
      "text/plain": "<Figure size 360x396 with 1 Axes>",
      "image/png": "[encoded data removed]"
     },
     "metadata": {
      "needs_background": "light"
     },
     "output_type": "display_data"
    }
   ],
   "source": [
    "anndata.raw = anndata\n",
    "sc.pl.highest_expr_genes(anndata, n_top=20, )"
   ]
  },
  {
   "cell_type": "code",
   "execution_count": 14,
   "metadata": {
    "pycharm": {
     "is_executing": false,
     "name": "#%%\n"
    }
   },
   "outputs": [
    {
     "data": {
      "text/plain": "(714, 27899)"
     },
     "metadata": {},
     "output_type": "execute_result",
     "execution_count": 14
    }
   ],
   "source": [
    "anndata.shape\n"
   ]
  },
  {
   "cell_type": "code",
   "execution_count": 15,
   "metadata": {
    "pycharm": {
     "is_executing": false,
     "name": "#%%\n"
    }
   },
   "outputs": [],
   "source": [
    "# Normalization and filtering\n",
    "sc.pp.filter_genes(anndata, min_cells=50)"
   ]
  },
  {
   "cell_type": "code",
   "execution_count": 16,
   "metadata": {
    "pycharm": {
     "is_executing": false,
     "name": "#%%\n"
    }
   },
   "outputs": [
    {
     "data": {
      "text/plain": "(714, 4995)"
     },
     "metadata": {},
     "output_type": "execute_result",
     "execution_count": 16
    }
   ],
   "source": [
    "anndata.shape"
   ]
  },
  {
   "cell_type": "code",
   "execution_count": 17,
   "metadata": {
    "pycharm": {
     "is_executing": false,
     "name": "#%%\n"
    }
   },
   "outputs": [],
   "source": [
    "sc.pp.normalize_total(anndata, target_sum=1e4)\n",
    "sc.pp.log1p(anndata)"
   ]
  },
  {
   "cell_type": "code",
   "execution_count": 18,
   "metadata": {
    "pycharm": {
     "is_executing": false,
     "name": "#%%\n"
    }
   },
   "outputs": [
    {
     "data": {
      "text/plain": "7.583314"
     },
     "metadata": {},
     "output_type": "execute_result",
     "execution_count": 18
    }
   ],
   "source": [
    "np.max(anndata.raw.X)\n",
    "np.max(anndata.X)"
   ]
  },
  {
   "cell_type": "code",
   "execution_count": 19,
   "metadata": {
    "pycharm": {
     "is_executing": false,
     "name": "#%%\n"
    }
   },
   "outputs": [
    {
     "data": {
      "text/plain": "<Figure size 360x828 with 1 Axes>",
      "image/png": "[encoded data removed]"
     },
     "metadata": {
      "needs_background": "light"
     },
     "output_type": "display_data"
    }
   ],
   "source": [
    "sc.pl.highest_expr_genes(anndata, n_top=50, )"
   ]
  },
  {
   "cell_type": "markdown",
   "metadata": {},
   "source": [
    "## Machine Learning"
   ]
  },
  {
   "cell_type": "code",
   "execution_count": 20,
   "metadata": {
    "pycharm": {
     "is_executing": false,
     "name": "#%%\n"
    }
   },
   "outputs": [],
   "source": [
    "barcodes2class = dict(zip(anno.Cell,\n",
    "                          anno.PredictionRefined))\n",
    "y_true = [barcodes2class[x] for x in anndata.obs_names]\n",
    "X = anndata.X\n",
    "X_train = X\n",
    "classdict = dict(normal=0, malignant=1)\n",
    "y_true_num = [classdict[x] for x in y_true]\n",
    "y_train = np.array(y_true_num)"
   ]
  },
  {
   "cell_type": "markdown",
   "metadata": {},
   "source": [
    "POP on training set"
   ]
  },
  {
   "cell_type": "code",
   "execution_count": 21,
   "metadata": {
    "pycharm": {
     "is_executing": false,
     "name": "#%%\n"
    }
   },
   "outputs": [],
   "source": [
    "# POP on the training set\n",
    "from pop_implemetation import *\n",
    "\n",
    "(mind_train, maxd_train, isborder_train, attr2outerb_train, attr2innerb_train,\n",
    " attr2outerb_train_val, attr2innerb_train_val) = pop_instance_training(X_train, y_train)\n",
    "train_border_examples = X_train[np.argwhere(np.sum(np.abs(isborder_train), axis=1)!=0).ravel(),:]\n",
    "ytrain_border_examples = y_train[np.argwhere(np.sum(np.abs(isborder_train), axis=1)!=0).ravel()]\n"
   ]
  },
  {
   "cell_type": "code",
   "execution_count": 22,
   "metadata": {
    "pycharm": {
     "is_executing": false,
     "name": "#%%\n"
    }
   },
   "outputs": [],
   "source": [
    "\n",
    "clf_lr = LogisticRegression(penalty='l1', solver='liblinear')  # Lasso\n",
    "scores_lr= cross_validate(clf_lr, X_train, \n",
    "                        y_train, cv=5,\n",
    "                        scoring={'accuracy_score':make_scorer(accuracy_score),\n",
    "                                 'precision_score':make_scorer(precision_score),\n",
    "                                 'prc':make_scorer(average_precision_score),\n",
    "                                 'mcc':make_scorer(matthews_corrcoef)})\n",
    "\n",
    "                                "
   ]
  },
  {
   "cell_type": "code",
   "execution_count": 23,
   "metadata": {
    "pycharm": {
     "is_executing": false,
     "name": "#%%\n"
    }
   },
   "outputs": [
    {
     "data": {
      "text/plain": "LogisticRegression(C=1.0, class_weight=None, dual=False, fit_intercept=True,\n                   intercept_scaling=1, l1_ratio=None, max_iter=100,\n                   multi_class='auto', n_jobs=None, penalty='l1',\n                   random_state=None, solver='liblinear', tol=0.0001, verbose=0,\n                   warm_start=False)"
     },
     "metadata": {},
     "output_type": "execute_result",
     "execution_count": 23
    }
   ],
   "source": [
    "# Training on the entire training set\n",
    "clf_lr.fit(X_train, y_train)"
   ]
  },
  {
   "cell_type": "code",
   "execution_count": 24,
   "metadata": {
    "pycharm": {
     "is_executing": false,
     "name": "#%%\n"
    }
   },
   "outputs": [
    {
     "data": {
      "text/plain": "{'fit_time': array([0.13366795, 0.07467079, 0.11204028, 0.16087317, 0.10870695]),\n 'score_time': array([0.04089403, 0.00598907, 0.07925773, 0.01687479, 0.006073  ]),\n 'test_accuracy_score': array([0.9020979 , 0.84615385, 0.88111888, 0.83916084, 0.85211268]),\n 'test_precision_score': array([0.82758621, 0.77777778, 0.87234043, 0.76363636, 0.77777778]),\n 'test_prc': array([0.79189776, 0.6981352 , 0.76472995, 0.68671329, 0.70390316]),\n 'test_mcc': array([0.79668976, 0.67060102, 0.73993264, 0.65737574, 0.68353543])}"
     },
     "metadata": {},
     "output_type": "execute_result",
     "execution_count": 24
    }
   ],
   "source": [
    "scores_lr"
   ]
  },
  {
   "cell_type": "code",
   "execution_count": 25,
   "metadata": {
    "pycharm": {
     "is_executing": false,
     "name": "#%%\n"
    }
   },
   "outputs": [],
   "source": [
    "mean_cv = [x+':'+str(np.mean(scores_lr[x])) for x in scores_lr.keys() ]\n",
    "std_cv = [x+':'+str(np.std(scores_lr[x])) for x in scores_lr.keys() ]"
   ]
  },
  {
   "cell_type": "code",
   "execution_count": 26,
   "metadata": {
    "pycharm": {
     "is_executing": false,
     "name": "#%%\n"
    }
   },
   "outputs": [
    {
     "name": "stdout",
     "text": [
      "Accuracy: 0.86 (+/- 0.05)\n",
      "Precision: 0.80 (+/- 0.08)\n",
      "MCC: 0.71 (+/- 0.10)\n"
     ],
     "output_type": "stream"
    }
   ],
   "source": [
    "print(\"Accuracy: %0.2f (+/- %0.2f)\" % (scores_lr['test_accuracy_score'].mean(), scores_lr['test_accuracy_score'].std() * 2))\n",
    "print(\"Precision: %0.2f (+/- %0.2f)\" % (scores_lr['test_precision_score'].mean(), scores_lr['test_precision_score'].std() * 2))\n",
    "\n",
    "print(\"MCC: %0.2f (+/- %0.2f)\" % (scores_lr['test_mcc'].mean(), scores_lr['test_mcc'].std() * 2))"
   ]
  },
  {
   "cell_type": "code",
   "execution_count": 27,
   "metadata": {
    "pycharm": {
     "is_executing": false,
     "name": "#%%\n"
    }
   },
   "outputs": [
    {
     "data": {
      "text/plain": "dict_keys(['fit_time', 'score_time', 'test_accuracy_score', 'test_precision_score', 'test_prc', 'test_mcc'])"
     },
     "metadata": {},
     "output_type": "execute_result",
     "execution_count": 27
    }
   ],
   "source": [
    "scores_lr.keys()"
   ]
  },
  {
   "cell_type": "markdown",
   "metadata": {},
   "source": [
    "### Predicting on a Validation dataset\n",
    "We try to predict the class of new unseen examples from different patients"
   ]
  },
  {
   "cell_type": "code",
   "execution_count": 28,
   "metadata": {
    "pycharm": {
     "is_executing": false,
     "name": "#%%\n"
    }
   },
   "outputs": [],
   "source": [
    "path_anno = dir_anno+'GSM3587932_AML328-D0.anno.txt.gz'\n",
    "anno329d0 = pd.read_csv(path_anno, sep='\\t')\n",
    "anno329d37 = pd.read_csv(dir_anno+'GSM3587945_AML329-D37.anno.txt.gz',\n",
    "                         sep='\\t')\n",
    "\n",
    "\n",
    "# Selecting only myeloid cells (normal or tumor)\n",
    "ind_myeloid_malign_d0 = [i for i, x in enumerate(anno329d0.CellType) if 'like' in x]\n",
    "ind_myeloid_benign_d0 = [i for i, x in enumerate(anno329d0.CellType) if x in mcells]\n",
    "ind_myeloid_malign_d37 = [i for i, x in enumerate(anno329d37.CellType) if 'like' in x]\n",
    "ind_myeloid_benign_d37 = [i for i, x in enumerate(anno329d37.CellType) if x in mcells]"
   ]
  },
  {
   "cell_type": "code",
   "execution_count": 29,
   "metadata": {
    "pycharm": {
     "is_executing": false,
     "name": "#%%\n"
    }
   },
   "outputs": [],
   "source": [
    "df_d0 = pd.read_csv(ge_files+'GSM3587931_AML328-D0.dem.txt.gz',\n",
    "                 sep='\\t')\n",
    "df_d37 = pd.read_csv(ge_files+'GSM3587944_AML329-D37.dem.txt.gz',\n",
    "                 sep='\\t')\n",
    "iGenes_d0 = [i for i, x in enumerate(df_d0['Gene']) if x in anndata.var_names]\n",
    "iGenes_d37 = [i for i, x in enumerate(df_d37['Gene']) if x in anndata.var_names]\n",
    "\n",
    "gene_names_d0 = df_d0['Gene']\n",
    "gene_names_d37 = df_d37['Gene']"
   ]
  },
  {
   "cell_type": "code",
   "execution_count": 30,
   "metadata": {
    "pycharm": {
     "is_executing": false,
     "name": "#%%\n"
    }
   },
   "outputs": [],
   "source": [
    "# Selecting only Myeloid\n",
    "barcodes_myeloid_d0 = list(anno329d0.Cell[ind_myeloid_malign_d0]) + list(anno329d0.Cell[ind_myeloid_benign_d0])\n",
    "barcodes_myeloid_d37 = list(anno329d37.Cell[ind_myeloid_malign_d37]) + list(anno329d37.Cell[ind_myeloid_benign_d37])\n",
    "\n",
    "m_col_d0 = [i for i, x in enumerate(df_d0.columns) if x in barcodes_myeloid_d0]\n",
    "m_col_d37 = [i for i, x in enumerate(df_d37.columns) if x in barcodes_myeloid_d37]\n",
    "\n",
    "df_d37 = df_d37.iloc[iGenes_d37, m_col_d37]\n",
    "df_d0 = df_d0.iloc[iGenes_d0, m_col_d0]\n",
    "\n",
    "\n",
    "barcodes_d0 = [x for x in df_d0.columns if 'Gene' not in x]\n",
    "barcodes_d37 = [x for x in df_d37.columns if 'Gene' not in x]\n",
    "\n",
    "df = pd.concat((df_d0, df_d37),axis=1, ignore_index=True)\n",
    "\n",
    "barcodes = barcodes_d0+barcodes_d37\n",
    "anndata_val = sc.AnnData(X=df.T.to_numpy(), obs=barcodes, var=anndata.var_names)\n",
    "\n",
    "anndata_val.var_names = anndata.var_names\n",
    "\n",
    "anndata_val.obs_names = barcodes"
   ]
  },
  {
   "cell_type": "code",
   "execution_count": 31,
   "metadata": {
    "pycharm": {
     "is_executing": false,
     "name": "#%%\n"
    }
   },
   "outputs": [
    {
     "data": {
      "text/plain": "(946, 4995)"
     },
     "metadata": {},
     "output_type": "execute_result",
     "execution_count": 31
    }
   ],
   "source": [
    "anndata_val.shape"
   ]
  },
  {
   "cell_type": "code",
   "execution_count": 32,
   "metadata": {
    "pycharm": {
     "is_executing": false,
     "name": "#%%\n"
    }
   },
   "outputs": [],
   "source": [
    "# Normalization per cell\n",
    "sc.pp.normalize_total(anndata_val)\n",
    "sc.pp.log1p(anndata_val)"
   ]
  },
  {
   "cell_type": "code",
   "execution_count": 33,
   "metadata": {
    "pycharm": {
     "is_executing": false,
     "name": "#%%\n"
    }
   },
   "outputs": [],
   "source": [
    "\n",
    "barcodes2class = dict(zip(pd.concat((anno329d0.Cell, anno329d37.Cell)),\n",
    "                          pd.concat((anno329d0.PredictionRefined, anno329d37.PredictionRefined))))\n",
    "\n",
    "\n",
    "\n",
    "y_true_val = [barcodes2class[x] for x in anndata_val.obs_names]\n",
    "\n",
    "X_val = anndata_val.X\n",
    "y_true_val_num = [classdict[x] for x in y_true_val]\n",
    "y_val = np.array(y_true_val_num)"
   ]
  },
  {
   "cell_type": "code",
   "execution_count": 34,
   "metadata": {
    "pycharm": {
     "is_executing": false,
     "name": "#%%\n"
    }
   },
   "outputs": [
    {
     "data": {
      "text/plain": "Counter({1: 709, 0: 237})"
     },
     "metadata": {},
     "output_type": "execute_result",
     "execution_count": 34
    }
   ],
   "source": [
    "vald = Counter(y_val)\n",
    "vald"
   ]
  },
  {
   "cell_type": "code",
   "execution_count": 35,
   "metadata": {
    "pycharm": {
     "is_executing": false,
     "name": "#%%\n"
    }
   },
   "outputs": [],
   "source": [
    "ypred_val_lr = clf_lr.predict(X_val)\n",
    "\n",
    "acc_val_lr = accuracy_score(y_val, ypred_val_lr)\n",
    "\n",
    "prec_val_lr = precision_score(y_val, ypred_val_lr)  # Precision decrease a lot! (form 86% to 56%)\n",
    "\n",
    "rec_val_lr = recall_score(y_val, ypred_val_lr)\n",
    "\n",
    "mcc_val_lr = matthews_corrcoef(y_val, ypred_val_lr)\n",
    "\n",
    "tn_val_lr, fp_val_lr, fn_val_lr, tp_val_lr = confusion_matrix(y_val, ypred_val_lr).ravel()"
   ]
  },
  {
   "cell_type": "code",
   "execution_count": 36,
   "metadata": {
    "pycharm": {
     "is_executing": false,
     "name": "#%%\n"
    }
   },
   "outputs": [
    {
     "name": "stdout",
     "text": [
      "Accuracy on validation:0.6374207188160677\n",
      "Precision on validation:0.8796680497925311\n",
      "Recall on validation:0.5980253878702397\n",
      "MCC on validation:0.3062372299632623\n",
      "Specificity on validation:0.7552742616033755\n"
     ],
     "output_type": "stream"
    }
   ],
   "source": [
    "print('Accuracy on validation:'+str(acc_val_lr))\n",
    "print('Precision on validation:'+str(prec_val_lr))\n",
    "print('Recall on validation:'+str(rec_val_lr))\n",
    "print('MCC on validation:'+str(mcc_val_lr))\n",
    "spec_lr = tn_val_lr / (tn_val_lr + fp_val_lr)\n",
    "print('Specificity on validation:'+str(spec_lr))"
   ]
  },
  {
   "cell_type": "code",
   "execution_count": 53,
   "metadata": {
    "pycharm": {
     "is_executing": false,
     "name": "#%%\n"
    }
   },
   "outputs": [],
   "source": [
    "## Reliability on Validation set\n",
    "n_border_val = [0] * X_val.shape[0]\n",
    "is_border_val = np.zeros(X_val.shape)\n",
    "for c in list(range(X_val.shape[0])):\n",
    "    # print(c)\n",
    "    xval = X_val[c]\n",
    "    bor = ''\n",
    "    for i in range(X_val.shape[1]):\n",
    "        bor = bor + check_is_border(xval[i], attr2outerb_train_val[i], inner=False)\n",
    "        bor = bor + check_is_border(xval[i], attr2innerb_train_val[i], inner=True)\n",
    "        if 'Outer' in bor or 'Inner' in bor:\n",
    "            n_border_val[c] = n_border_val[c] + 1\n",
    "            is_border_val[c, i] = 1\n",
    "            \n",
    "            "
   ]
  },
  {
   "cell_type": "code",
   "execution_count": 38,
   "metadata": {
    "pycharm": {
     "is_executing": false,
     "name": "#%%\n"
    }
   },
   "outputs": [],
   "source": [
    "rel_val = 1 - np.array(n_border_val) / X_val.shape[1]\n",
    "unreliable_val = np.argwhere(rel_val == 0).ravel()\n",
    "reliable_val = np.argwhere(rel_val > 0).ravel()  # or !=0"
   ]
  },
  {
   "cell_type": "code",
   "execution_count": 39,
   "outputs": [
    {
     "data": {
      "text/plain": "4"
     },
     "metadata": {},
     "output_type": "execute_result",
     "execution_count": 39
    }
   ],
   "source": [
    "len(np.unique(rel_val))"
   ],
   "metadata": {
    "collapsed": false,
    "pycharm": {
     "name": "#%%\n",
     "is_executing": false
    }
   }
  },
  {
   "cell_type": "code",
   "execution_count": 40,
   "metadata": {
    "pycharm": {
     "is_executing": false,
     "name": "#%%\n"
    }
   },
   "outputs": [],
   "source": [
    "acc_unrel_val_lr = accuracy_score(y_val[unreliable_val], ypred_val_lr[unreliable_val])\n",
    "prec_unrel_val_lr = precision_score(y_val[unreliable_val], ypred_val_lr[unreliable_val])\n",
    "mcc_unrel_val_lr = matthews_corrcoef(y_val[unreliable_val], ypred_val_lr[unreliable_val])\n",
    "\n",
    "acc_rel_val_lr = accuracy_score(y_val[reliable_val], ypred_val_lr[reliable_val])\n",
    "prec_rel_val_lr = precision_score(y_val[reliable_val], ypred_val_lr[reliable_val])\n",
    "mcc_rel_val_lr = matthews_corrcoef(y_val[reliable_val], ypred_val_lr[reliable_val])\n",
    "\n",
    "acc_val_lr = accuracy_score(y_val, ypred_val_lr)\n",
    "prec_val_lr = precision_score(y_val, ypred_val_lr)\n",
    "mcc_val_lr = matthews_corrcoef(y_val, ypred_val_lr)\n",
    "\n",
    "tn_val_lr_rel, fp_val_lr_rel, fn_val_lr_rel, tp_val_lr_rel = confusion_matrix(y_val[reliable_val], \n",
    "                                                                                  ypred_val_lr[reliable_val]).ravel()\n",
    "tn_val_lr_unrel, fp_val_lr_unrel, fn_val_lr_unrel, tp_val_lr_unrel = confusion_matrix(y_val[unreliable_val], \n",
    "                                                                                  ypred_val_lr[unreliable_val]).ravel()\n",
    "spec_rel_val = tn_val_lr_rel/(tn_val_lr_rel+fp_val_lr_rel)\n",
    "spec_unrel_val = tn_val_lr_unrel/(tn_val_lr_unrel+fp_val_lr_unrel)\n",
    "\n",
    "\n",
    "sens_rel_val = tp_val_lr_rel/(tp_val_lr_rel+fn_val_lr_rel)\n",
    "sens_unrel_val = tp_val_lr_unrel/(tp_val_lr_unrel+fn_val_lr_unrel)\n",
    "sens_val = tp_val_lr/(tp_val_lr+fn_val_lr)"
   ]
  },
  {
   "cell_type": "code",
   "execution_count": 41,
   "metadata": {
    "pycharm": {
     "is_executing": false,
     "name": "#%%\n"
    }
   },
   "outputs": [
    {
     "name": "stdout",
     "text": [
      "Number of elements in validation:946\n",
      "Number of reliable examples in validation:109\n",
      "Number of unreliable examples in validation:837\n"
     ],
     "output_type": "stream"
    }
   ],
   "source": [
    "print('Number of elements in validation:' + str(X_val.shape[0]))\n",
    "print('Number of reliable examples in validation:' + str(len(reliable_val)))\n",
    "print('Number of unreliable examples in validation:' + str(len(unreliable_val)))"
   ]
  },
  {
   "cell_type": "code",
   "execution_count": 41,
   "metadata": {
    "pycharm": {
     "is_executing": false,
     "name": "#%% md Pelrormance on the validation\n"
    }
   },
   "outputs": [],
   "source": []
  },
  {
   "cell_type": "code",
   "execution_count": 42,
   "metadata": {
    "pycharm": {
     "is_executing": false,
     "name": "#%%\n"
    }
   },
   "outputs": [
    {
     "name": "stdout",
     "text": [
      "Accuracy on validation:0.6374207188160677\n",
      "Accuracy on reliable validation:0.7614678899082569\n",
      "Accuracy on unreliable validation:0.6212664277180406\n",
      "Precision on validation:0.8796680497925311\n",
      "Precision on reliable validation:0.9714285714285714\n",
      "Precision on unreliable validation:0.8640776699029126\n",
      "MCC on validation:0.3062372299632623\n",
      "MCC on reliable validation:0.47039919195511365\n",
      "MCC on unreliable validation:0.2838962829162476\n",
      "Sensitivity on validation: 0.5980253878702397\n",
      "Sensitivity on reliable validation: 0.7391304347826086\n",
      "Sensitivity on unreliable validation: 0.5769854132901134\n"
     ],
     "output_type": "stream"
    }
   ],
   "source": [
    "print('Accuracy on validation:' + str(acc_val_lr))\n",
    "print('Accuracy on reliable validation:' + str(acc_rel_val_lr))\n",
    "print('Accuracy on unreliable validation:' + str(acc_unrel_val_lr))\n",
    "\n",
    "print('Precision on validation:' + str(prec_val_lr))\n",
    "print('Precision on reliable validation:' + str(prec_rel_val_lr))\n",
    "print('Precision on unreliable validation:' + str(prec_unrel_val_lr))\n",
    "\n",
    "\n",
    "print('MCC on validation:' + str(mcc_val_lr))\n",
    "print('MCC on reliable validation:' + str(mcc_rel_val_lr))\n",
    "print('MCC on unreliable validation:' + str(mcc_unrel_val_lr))\n",
    "\n",
    "print('Sensitivity on validation: '+str(sens_val))\n",
    "print('Sensitivity on reliable validation: '+str(sens_rel_val))\n",
    "print('Sensitivity on unreliable validation: '+str(sens_unrel_val))"
   ]
  },
  {
   "cell_type": "code",
   "execution_count": 43,
   "metadata": {
    "pycharm": {
     "is_executing": false,
     "name": "#%%\n"
    }
   },
   "outputs": [
    {
     "data": {
      "text/plain": "<Figure size 1080x720 with 1 Axes>",
      "image/png": "[encoded data removed]"
     },
     "metadata": {
      "needs_background": "light"
     },
     "output_type": "display_data"
    }
   ],
   "source": [
    "labels = ['accuracy', 'precision',\n",
    "          'matthews_corrcoef']\n",
    "\n",
    "r1 = np.arange(len(labels))  # the label locations\n",
    "\n",
    "width = 0.15  # the width of the bars\n",
    "# Set position of bar on X axis\n",
    "r2 = [x + width for x in r1]\n",
    "r3 = [x + width for x in r2]\n",
    "r4 = [x + width for x in r3]\n",
    "\n",
    "f=20\n",
    "fig, ax = pyplot.subplots(figsize=(15,10))\n",
    "rects1 = ax.bar(r1, [scores_lr['test_accuracy_score'].mean(), \n",
    "                     scores_lr['test_precision_score'].mean(),\n",
    "                     scores_lr['test_mcc'].mean()], width, label='Mean CrossVal')\n",
    "rects2 = ax.bar(r2, [acc_val_lr, prec_val_lr, mcc_val_lr], width, label='Validation')\n",
    "rects3 = ax.bar(r3, [acc_rel_val_lr, prec_rel_val_lr, mcc_rel_val_lr], width, label='Reliable Validation')\n",
    "rects4 = ax.bar(r4, [acc_unrel_val_lr, prec_unrel_val_lr, mcc_unrel_val_lr], width, label='Unreliable Validation')\n",
    "\n",
    "# Add some text for labels, title and custom x-axis tick labels, etc.\n",
    "ax.set_ylabel('Scores', fontsize=f)\n",
    "ax.set_title('SingleCell Tumor/Normal Dataset', fontsize=25)\n",
    "ax.set_xticks(r4)\n",
    "ax.set_xticklabels(labels, ha=\"right\", fontsize=f)\n",
    "ax.legend()\n",
    "\n",
    "\n",
    "def autolabel(rects):\n",
    "    \"\"\"Attach a text label above each bar in *rects*, displaying its height.\"\"\"\n",
    "    for rect in rects:\n",
    "        height = round(rect.get_height(), 2)\n",
    "        ax.annotate('{}'.format(height),\n",
    "                    xy=(rect.get_x() + rect.get_width() / 2, height),\n",
    "                    xytext=(0, 3),  # 3 points vertical offset\n",
    "                    textcoords=\"offset points\",\n",
    "                    ha='center', va='bottom', fontsize=f)\n",
    "\n",
    "\n",
    "autolabel(rects1)\n",
    "autolabel(rects2)\n",
    "autolabel(rects3)\n",
    "autolabel(rects4)\n",
    "pyplot.legend(prop={'size': f})\n",
    "fig.tight_layout()\n",
    "pyplot.savefig('/Users/giovannanicora/Desktop/results_singlecell.png')\n",
    "pyplot.show()\n",
    "\n"
   ]
  },
  {
   "cell_type": "code",
   "execution_count": 44,
   "metadata": {
    "pycharm": {
     "is_executing": false,
     "name": "#%%\n"
    }
   },
   "outputs": [
    {
     "name": "stdout",
     "text": [
      "Confidence intervals for MCC on Validation:0.2768644540429343-0.3356100058835903\n"
     ],
     "output_type": "stream"
    }
   ],
   "source": [
    "z = 1.96\n",
    "interval = z * np.sqrt(mcc_val_lr * (1 - mcc_val_lr) / X_val.shape[0])\n",
    "conf_inf = [mcc_val_lr - interval, mcc_val_lr + interval]\n",
    "print('Confidence intervals for MCC on Validation:' + str(conf_inf[0]) + '-' + str(conf_inf[1]))"
   ]
  },
  {
   "cell_type": "code",
   "execution_count": 45,
   "metadata": {
    "pycharm": {
     "is_executing": false,
     "name": "#%%\n"
    }
   },
   "outputs": [
    {
     "name": "stdout",
     "text": [
      "Confidence intervals for Precision on Validation:0.8589351337037914-0.9004009658812708\n"
     ],
     "output_type": "stream"
    }
   ],
   "source": [
    "z = 1.96\n",
    "interval = z * np.sqrt(prec_val_lr * (1 - prec_val_lr) / X_val.shape[0])\n",
    "conf_inf = [prec_val_lr - interval, prec_val_lr + interval]\n",
    "print('Confidence intervals for Precision on Validation:' + str(conf_inf[0]) + '-' + str(conf_inf[1]))"
   ]
  },
  {
   "cell_type": "code",
   "execution_count": 46,
   "metadata": {
    "pycharm": {
     "is_executing": false,
     "name": "#%%\n"
    }
   },
   "outputs": [
    {
     "name": "stdout",
     "text": [
      "Confidence intervals for Sensitivity on Validation:0.5667811722493793-0.6292696034911002\n"
     ],
     "output_type": "stream"
    }
   ],
   "source": [
    "z = 1.96\n",
    "interval = z * np.sqrt(sens_val * (1 - sens_val) / X_val.shape[0])\n",
    "conf_inf = [sens_val - interval, sens_val + interval]\n",
    "print('Confidence intervals for Sensitivity on Validation:' + str(conf_inf[0]) + '-' + str(conf_inf[1]))"
   ]
  },
  {
   "cell_type": "markdown",
   "metadata": {},
   "source": [
    "Correct and uncorrect examples in reliable and unreliable dataset"
   ]
  },
  {
   "cell_type": "code",
   "execution_count": 47,
   "metadata": {
    "pycharm": {
     "is_executing": false,
     "name": "#%%\n"
    }
   },
   "outputs": [
    {
     "data": {
      "text/plain": "             Val_Tot  Val_Rel  Val_Unrel\ncorrect          603       83        520\nnot_correct      343       26        317",
      "text/html": "<div>\n<style scoped>\n    .dataframe tbody tr th:only-of-type {\n        vertical-align: middle;\n    }\n\n    .dataframe tbody tr th {\n        vertical-align: top;\n    }\n\n    .dataframe thead th {\n        text-align: right;\n    }\n</style>\n<table border=\"1\" class=\"dataframe\">\n  <thead>\n    <tr style=\"text-align: right;\">\n      <th></th>\n      <th>Val_Tot</th>\n      <th>Val_Rel</th>\n      <th>Val_Unrel</th>\n    </tr>\n  </thead>\n  <tbody>\n    <tr>\n      <th>correct</th>\n      <td>603</td>\n      <td>83</td>\n      <td>520</td>\n    </tr>\n    <tr>\n      <th>not_correct</th>\n      <td>343</td>\n      <td>26</td>\n      <td>317</td>\n    </tr>\n  </tbody>\n</table>\n</div>"
     },
     "metadata": {},
     "output_type": "execute_result",
     "execution_count": 47
    }
   ],
   "source": [
    "correct_val = (y_val == ypred_val_lr).astype(int)\n",
    "correct_val_rel = (y_val[reliable_val] == ypred_val_lr[reliable_val]).astype(int)\n",
    "correct_val_unrel = (y_val[unreliable_val] == ypred_val_lr[unreliable_val]).astype(int)\n",
    "\n",
    "n_correct_val = len(np.where(correct_val==1)[0])\n",
    "n_uncorrect_val = len(np.where(correct_val==0)[0])\n",
    "\n",
    "n_correct_val_rel = len(np.where(correct_val_rel==1)[0])\n",
    "n_uncorrect_val_rel = len(np.where(correct_val_rel==0)[0])\n",
    "\n",
    "n_correct_val_unrel = len(np.where(correct_val_unrel==1)[0])\n",
    "n_uncorrect_val_unrel = len(np.where(correct_val_unrel==0)[0])\n",
    "\n",
    "df_c = pd.DataFrame(dict(Val_Tot=[n_correct_val, n_uncorrect_val], \n",
    "                         Val_Rel=[n_correct_val_rel, n_uncorrect_val_rel],\n",
    "                         Val_Unrel=[n_correct_val_unrel, n_uncorrect_val_unrel]\n",
    "                        ), index=['correct', 'not_correct'])\n",
    "df_c"
   ]
  },
  {
   "cell_type": "code",
   "execution_count": 48,
   "metadata": {
    "pycharm": {
     "is_executing": false,
     "name": "#%%\n"
    }
   },
   "outputs": [
    {
     "data": {
      "text/plain": "                   Val_Tot   Val_Rel  Val_Unrel\nperc_correct      0.637421  0.761468   0.621266\nperc_not_correct  0.362579  0.238532   0.378734",
      "text/html": "<div>\n<style scoped>\n    .dataframe tbody tr th:only-of-type {\n        vertical-align: middle;\n    }\n\n    .dataframe tbody tr th {\n        vertical-align: top;\n    }\n\n    .dataframe thead th {\n        text-align: right;\n    }\n</style>\n<table border=\"1\" class=\"dataframe\">\n  <thead>\n    <tr style=\"text-align: right;\">\n      <th></th>\n      <th>Val_Tot</th>\n      <th>Val_Rel</th>\n      <th>Val_Unrel</th>\n    </tr>\n  </thead>\n  <tbody>\n    <tr>\n      <th>perc_correct</th>\n      <td>0.637421</td>\n      <td>0.761468</td>\n      <td>0.621266</td>\n    </tr>\n    <tr>\n      <th>perc_not_correct</th>\n      <td>0.362579</td>\n      <td>0.238532</td>\n      <td>0.378734</td>\n    </tr>\n  </tbody>\n</table>\n</div>"
     },
     "metadata": {},
     "output_type": "execute_result",
     "execution_count": 48
    }
   ],
   "source": [
    "df_c_p = pd.DataFrame(dict(Val_Tot=[n_correct_val/len(y_val), n_uncorrect_val/len(y_val)],\n",
    "                         Val_Rel=[n_correct_val_rel/len(reliable_val), n_uncorrect_val_rel/len(reliable_val)],\n",
    "                         Val_Unrel=[n_correct_val_unrel/len(unreliable_val), n_uncorrect_val_unrel/len(unreliable_val)]), \n",
    "                           \n",
    "                        index=['perc_correct', 'perc_not_correct'])\n",
    "df_c_p"
   ]
  },
  {
   "cell_type": "code",
   "execution_count": 49,
   "outputs": [],
   "source": [
    "coef = clf_lr.coef_[0]\n",
    "iC = np.where(coef!=0)[0]\n",
    "feat = np.array(anndata.var_names)"
   ],
   "metadata": {
    "collapsed": false,
    "pycharm": {
     "name": "#%%\n",
     "is_executing": false
    }
   }
  },
  {
   "cell_type": "code",
   "execution_count": 51,
   "outputs": [],
   "source": [
    "coef_feat = pd.DataFrame(dict(f=feat[iC], \n",
    "                  coef=coef[iC]), \n",
    "                   index=feat[iC])"
   ],
   "metadata": {
    "collapsed": false,
    "pycharm": {
     "name": "#%%\n",
     "is_executing": false
    }
   }
  },
  {
   "cell_type": "code",
   "execution_count": 52,
   "outputs": [
    {
     "data": {
      "text/plain": "             f      coef\nACAP2    ACAP2  0.097721\nACBD3    ACBD3  0.151804\nACIN1    ACIN1  0.178736\nADAR      ADAR  0.278078\nAKR1A1  AKR1A1  0.386175\n...        ...       ...\nYWHAQ    YWHAQ  0.141462\nZC3H15  ZC3H15 -0.051798\nZEB2      ZEB2 -0.010377\nZFAND5  ZFAND5 -0.031533\nZNF326  ZNF326  0.304680\n\n[246 rows x 2 columns]",
      "text/html": "<div>\n<style scoped>\n    .dataframe tbody tr th:only-of-type {\n        vertical-align: middle;\n    }\n\n    .dataframe tbody tr th {\n        vertical-align: top;\n    }\n\n    .dataframe thead th {\n        text-align: right;\n    }\n</style>\n<table border=\"1\" class=\"dataframe\">\n  <thead>\n    <tr style=\"text-align: right;\">\n      <th></th>\n      <th>f</th>\n      <th>coef</th>\n    </tr>\n  </thead>\n  <tbody>\n    <tr>\n      <th>ACAP2</th>\n      <td>ACAP2</td>\n      <td>0.097721</td>\n    </tr>\n    <tr>\n      <th>ACBD3</th>\n      <td>ACBD3</td>\n      <td>0.151804</td>\n    </tr>\n    <tr>\n      <th>ACIN1</th>\n      <td>ACIN1</td>\n      <td>0.178736</td>\n    </tr>\n    <tr>\n      <th>ADAR</th>\n      <td>ADAR</td>\n      <td>0.278078</td>\n    </tr>\n    <tr>\n      <th>AKR1A1</th>\n      <td>AKR1A1</td>\n      <td>0.386175</td>\n    </tr>\n    <tr>\n      <th>...</th>\n      <td>...</td>\n      <td>...</td>\n    </tr>\n    <tr>\n      <th>YWHAQ</th>\n      <td>YWHAQ</td>\n      <td>0.141462</td>\n    </tr>\n    <tr>\n      <th>ZC3H15</th>\n      <td>ZC3H15</td>\n      <td>-0.051798</td>\n    </tr>\n    <tr>\n      <th>ZEB2</th>\n      <td>ZEB2</td>\n      <td>-0.010377</td>\n    </tr>\n    <tr>\n      <th>ZFAND5</th>\n      <td>ZFAND5</td>\n      <td>-0.031533</td>\n    </tr>\n    <tr>\n      <th>ZNF326</th>\n      <td>ZNF326</td>\n      <td>0.304680</td>\n    </tr>\n  </tbody>\n</table>\n<p>246 rows × 2 columns</p>\n</div>"
     },
     "metadata": {},
     "output_type": "execute_result",
     "execution_count": 52
    }
   ],
   "source": [
    "coef_feat"
   ],
   "metadata": {
    "collapsed": false,
    "pycharm": {
     "name": "#%%\n",
     "is_executing": false
    }
   }
  },
  {
   "cell_type": "code",
   "execution_count": null,
   "outputs": [],
   "source": [
    "unreliable_val_borders = is_border_val[unreliable_val]"
   ],
   "metadata": {
    "collapsed": false,
    "pycharm": {
     "name": "#%%\n"
    }
   }
  }
 ],
 "metadata": {
  "kernelspec": {
   "display_name": "Python 3",
   "language": "python",
   "name": "python3"
  },
  "language_info": {
   "codemirror_mode": {
    "name": "ipython",
    "version": 3
   },
   "file_extension": ".py",
   "mimetype": "text/x-python",
   "name": "python",
   "nbconvert_exporter": "python",
   "pygments_lexer": "ipython3",
   "version": "3.7.4"
  },
  "pycharm": {
   "stem_cell": {
    "cell_type": "raw",
    "source": [],
    "metadata": {
     "collapsed": false
    }
   }
  }
 },
 "nbformat": 4,
 "nbformat_minor": 1
}